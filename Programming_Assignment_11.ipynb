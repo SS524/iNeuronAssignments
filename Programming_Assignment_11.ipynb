{
  "nbformat": 4,
  "nbformat_minor": 0,
  "metadata": {
    "colab": {
      "provenance": [],
      "authorship_tag": "ABX9TyMBxzXj8Id7zavtEPpAxi/T",
      "include_colab_link": true
    },
    "kernelspec": {
      "name": "python3",
      "display_name": "Python 3"
    },
    "language_info": {
      "name": "python"
    }
  },
  "cells": [
    {
      "cell_type": "markdown",
      "metadata": {
        "id": "view-in-github",
        "colab_type": "text"
      },
      "source": [
        "<a href=\"https://colab.research.google.com/github/SS524/iNeuronAssignments/blob/main/Programming_Assignment_11.ipynb\" target=\"_parent\"><img src=\"https://colab.research.google.com/assets/colab-badge.svg\" alt=\"Open In Colab\"/></a>"
      ]
    },
    {
      "cell_type": "markdown",
      "source": [
        "1. Write a Python program to find words which are greater than given length k?\n",
        "2. Write a Python program for removing i-th character from a string?\n",
        "3. Write a Python program to split and join a string?\n",
        "4. Write a Python to check if a given string is binary string or not?\n",
        "5. Write a Python program to find uncommon words from two Strings?\n",
        "6. Write a Python to find all duplicate characters in string?\n",
        "7. Write a Python Program to check if a string contains any special character?"
      ],
      "metadata": {
        "id": "qnNyS969Iv1O"
      }
    },
    {
      "cell_type": "code",
      "execution_count": 1,
      "metadata": {
        "id": "EHq4S1UDIuo6"
      },
      "outputs": [],
      "source": [
        "def greater_than_k(s,k):\n",
        "  ls=s.split(\" \")\n",
        "  result=[]\n",
        "  for i in ls:\n",
        "    if len(i)>k:\n",
        "      result.append(i)\n",
        "  return result"
      ]
    },
    {
      "cell_type": "code",
      "source": [
        "greater_than_k(\"I am not a fan of Virat Kohli as I don't like his over aggression\",4)"
      ],
      "metadata": {
        "colab": {
          "base_uri": "https://localhost:8080/"
        },
        "id": "7YmhjvRyJQAD",
        "outputId": "365f5ef4-2246-4582-dfba-c11c3ca73ac5"
      },
      "execution_count": 3,
      "outputs": [
        {
          "output_type": "execute_result",
          "data": {
            "text/plain": [
              "['Virat', 'Kohli', \"don't\", 'aggression']"
            ]
          },
          "metadata": {},
          "execution_count": 3
        }
      ]
    },
    {
      "cell_type": "code",
      "source": [
        "def remove_ith_char(s,i):\n",
        "  return s.replace(s[i],\"\")\n"
      ],
      "metadata": {
        "id": "Uo9kUW8QJj-8"
      },
      "execution_count": 6,
      "outputs": []
    },
    {
      "cell_type": "code",
      "source": [
        "remove_ith_char('Soumyadeep',5)"
      ],
      "metadata": {
        "colab": {
          "base_uri": "https://localhost:8080/",
          "height": 35
        },
        "id": "_-0R4xp_KQhR",
        "outputId": "659ef61d-cfd9-4e62-84cf-ad9ae1235dfa"
      },
      "execution_count": 7,
      "outputs": [
        {
          "output_type": "execute_result",
          "data": {
            "text/plain": [
              "'Soumydeep'"
            ],
            "application/vnd.google.colaboratory.intrinsic+json": {
              "type": "string"
            }
          },
          "metadata": {},
          "execution_count": 7
        }
      ]
    },
    {
      "cell_type": "code",
      "source": [
        "def split_string(s,separator):\n",
        "  return s.split(separator)\n"
      ],
      "metadata": {
        "id": "4Eyx4TmqKgZq"
      },
      "execution_count": 8,
      "outputs": []
    },
    {
      "cell_type": "code",
      "source": [
        "split_string(\"He is a good man\",\" \")"
      ],
      "metadata": {
        "colab": {
          "base_uri": "https://localhost:8080/"
        },
        "id": "o-TrajHCK8uD",
        "outputId": "d1fc1f73-f47c-437f-c87a-50a9d112ec9c"
      },
      "execution_count": 9,
      "outputs": [
        {
          "output_type": "execute_result",
          "data": {
            "text/plain": [
              "['He', 'is', 'a', 'good', 'man']"
            ]
          },
          "metadata": {},
          "execution_count": 9
        }
      ]
    },
    {
      "cell_type": "code",
      "source": [
        "def join_string(ls_string):\n",
        "  return \" \".join(ls_string)"
      ],
      "metadata": {
        "id": "SkT9JVMELDib"
      },
      "execution_count": 10,
      "outputs": []
    },
    {
      "cell_type": "code",
      "source": [
        "join_string([\"He\",\"is\",\"very\",\"tall\"])"
      ],
      "metadata": {
        "colab": {
          "base_uri": "https://localhost:8080/",
          "height": 35
        },
        "id": "EQJL06V9LQbS",
        "outputId": "15e42909-1383-4d44-f96f-bb02e130ff07"
      },
      "execution_count": 11,
      "outputs": [
        {
          "output_type": "execute_result",
          "data": {
            "text/plain": [
              "'He is very tall'"
            ],
            "application/vnd.google.colaboratory.intrinsic+json": {
              "type": "string"
            }
          },
          "metadata": {},
          "execution_count": 11
        }
      ]
    },
    {
      "cell_type": "code",
      "source": [
        "def check_binary_string(s):\n",
        "  isBinary=True\n",
        "  for i in range(0,len(s)):\n",
        "    if (s[i]!='0' and s[i]!='1'):\n",
        "      return False\n",
        "  return isBinary"
      ],
      "metadata": {
        "id": "lGPOVN7OLZK7"
      },
      "execution_count": 26,
      "outputs": []
    },
    {
      "cell_type": "code",
      "source": [
        "check_binary_string(\"101010011\")"
      ],
      "metadata": {
        "colab": {
          "base_uri": "https://localhost:8080/"
        },
        "id": "SJFe_YYdMfUl",
        "outputId": "ab88165d-f9f6-47a4-9040-c23d3c9bcc3e"
      },
      "execution_count": 28,
      "outputs": [
        {
          "output_type": "execute_result",
          "data": {
            "text/plain": [
              "True"
            ]
          },
          "metadata": {},
          "execution_count": 28
        }
      ]
    },
    {
      "cell_type": "code",
      "source": [
        "def uncommon_words(s1,s2):\n",
        "  set1=set(s1.split(\" \"))\n",
        "  set2=set(s2.split(\" \"))\n",
        "  set3=set1.difference(set2)\n",
        "  set4=set2.difference(set1)\n",
        "  set5=set3.union(set4)\n",
        "  return set5"
      ],
      "metadata": {
        "id": "qDpqLJDkMkDT"
      },
      "execution_count": 31,
      "outputs": []
    },
    {
      "cell_type": "code",
      "source": [
        "uncommon_words(\"You should work hard\",\"Working hard should be your priority\")"
      ],
      "metadata": {
        "colab": {
          "base_uri": "https://localhost:8080/"
        },
        "id": "rVu7cd-MPg0L",
        "outputId": "ec471744-56cd-403a-c783-977442991fea"
      },
      "execution_count": 32,
      "outputs": [
        {
          "output_type": "execute_result",
          "data": {
            "text/plain": [
              "{'Working', 'You', 'be', 'priority', 'work', 'your'}"
            ]
          },
          "metadata": {},
          "execution_count": 32
        }
      ]
    },
    {
      "cell_type": "code",
      "source": [
        "def duplicate_char(s):\n",
        "  dic={}\n",
        "  result=[]\n",
        "  for i in range(0,len(s)):\n",
        "    if (dic.get(s[i]) is None):\n",
        "      dic[s[i]]=\"firsttime\"\n",
        "    else:\n",
        "      result.append(s[i])\n",
        "  return result\n",
        "\n"
      ],
      "metadata": {
        "id": "YGoRwqnVQOcy"
      },
      "execution_count": 54,
      "outputs": []
    },
    {
      "cell_type": "code",
      "source": [
        "duplicate_char(\"Soumyadeep\")"
      ],
      "metadata": {
        "colab": {
          "base_uri": "https://localhost:8080/"
        },
        "id": "Kx-XJQppSClM",
        "outputId": "46b85a30-14cd-4a8a-aa93-6a13d71c2be7"
      },
      "execution_count": 55,
      "outputs": [
        {
          "output_type": "execute_result",
          "data": {
            "text/plain": [
              "['e']"
            ]
          },
          "metadata": {},
          "execution_count": 55
        }
      ]
    },
    {
      "cell_type": "code",
      "source": [
        "def check_special_char(s):\n",
        "  sp = '[@_!#$%^&*()<>?/\\|}{~:]'\n",
        "  for i in range(0,len(s)):\n",
        "    if s[i] in sp:\n",
        "      return True\n",
        "  return False"
      ],
      "metadata": {
        "id": "Bdi4jWMYSLUx"
      },
      "execution_count": 56,
      "outputs": []
    },
    {
      "cell_type": "code",
      "source": [
        "check_special_char(\"Suv@fkgkgo\")"
      ],
      "metadata": {
        "colab": {
          "base_uri": "https://localhost:8080/"
        },
        "id": "bcCY4s5rVKQD",
        "outputId": "2c70646b-ab0e-45fa-9319-8f0479901ff0"
      },
      "execution_count": 60,
      "outputs": [
        {
          "output_type": "execute_result",
          "data": {
            "text/plain": [
              "True"
            ]
          },
          "metadata": {},
          "execution_count": 60
        }
      ]
    },
    {
      "cell_type": "code",
      "source": [],
      "metadata": {
        "id": "BG2CrUsfVL3b"
      },
      "execution_count": null,
      "outputs": []
    }
  ]
}