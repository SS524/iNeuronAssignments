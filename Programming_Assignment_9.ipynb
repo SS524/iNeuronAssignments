{
  "nbformat": 4,
  "nbformat_minor": 0,
  "metadata": {
    "colab": {
      "provenance": [],
      "authorship_tag": "ABX9TyOeKBKbmUGwXAUpm3uzEZpT",
      "include_colab_link": true
    },
    "kernelspec": {
      "name": "python3",
      "display_name": "Python 3"
    },
    "language_info": {
      "name": "python"
    }
  },
  "cells": [
    {
      "cell_type": "markdown",
      "metadata": {
        "id": "view-in-github",
        "colab_type": "text"
      },
      "source": [
        "<a href=\"https://colab.research.google.com/github/SS524/iNeuronAssignments/blob/main/Programming_Assignment_9.ipynb\" target=\"_parent\"><img src=\"https://colab.research.google.com/assets/colab-badge.svg\" alt=\"Open In Colab\"/></a>"
      ]
    },
    {
      "cell_type": "markdown",
      "source": [
        "1. Write a Python program to check if the given number is a Disarium Number?"
      ],
      "metadata": {
        "id": "_JLr_HMdvuEK"
      }
    },
    {
      "cell_type": "code",
      "execution_count": 15,
      "metadata": {
        "id": "--kF7ft0tMzV"
      },
      "outputs": [],
      "source": [
        "def is_disarium(num):\n",
        "  num_str=str(num)\n",
        "  ls=[*num_str]\n",
        "  sum=0\n",
        "  for i in range(0,len(ls)):\n",
        "    sum=sum+int(ls[i])**(i+1)\n",
        "  if (sum==num):\n",
        "    return True\n",
        "  else:\n",
        "    return False"
      ]
    },
    {
      "cell_type": "code",
      "source": [
        "is_disarium(136)"
      ],
      "metadata": {
        "colab": {
          "base_uri": "https://localhost:8080/"
        },
        "id": "6avvVJsyt-i9",
        "outputId": "f2374d15-ffa9-4a9a-ed6a-f669cd5cb5b8"
      },
      "execution_count": 17,
      "outputs": [
        {
          "output_type": "execute_result",
          "data": {
            "text/plain": [
              "False"
            ]
          },
          "metadata": {},
          "execution_count": 17
        }
      ]
    },
    {
      "cell_type": "markdown",
      "source": [
        "2. Write a Python program to print all disarium numbers between 1 to 100?"
      ],
      "metadata": {
        "id": "w5NbD8B44mrg"
      }
    },
    {
      "cell_type": "code",
      "source": [
        "for i in range(1,101):\n",
        "  if(is_disarium(i)):\n",
        "    print(i)"
      ],
      "metadata": {
        "colab": {
          "base_uri": "https://localhost:8080/"
        },
        "id": "ioc6NtyE4rwW",
        "outputId": "db8f57d2-d60a-42c1-cfac-589f17dca8a1"
      },
      "execution_count": 28,
      "outputs": [
        {
          "output_type": "stream",
          "name": "stdout",
          "text": [
            "1\n",
            "2\n",
            "3\n",
            "4\n",
            "5\n",
            "6\n",
            "7\n",
            "8\n",
            "9\n",
            "89\n"
          ]
        }
      ]
    },
    {
      "cell_type": "markdown",
      "source": [
        "3. Write a Python program to check if the given number is Happy Number?"
      ],
      "metadata": {
        "id": "0ht4-QRD3z67"
      }
    },
    {
      "cell_type": "code",
      "source": [
        "def isHappyNumber(num):\n",
        "  temp=num\n",
        "  while(temp!=1 and temp!=4):\n",
        "    ls=[*str(temp)]\n",
        "    sum=0\n",
        "    for i in range(0,len(ls)):\n",
        "      sum=sum+int(ls[i])**2\n",
        "    temp=sum\n",
        "  if (temp==1):\n",
        "    return True\n",
        "  else:\n",
        "    return False\n"
      ],
      "metadata": {
        "id": "SQOEGUqzvnsf"
      },
      "execution_count": 20,
      "outputs": []
    },
    {
      "cell_type": "code",
      "source": [
        "isHappyNumber(82)"
      ],
      "metadata": {
        "colab": {
          "base_uri": "https://localhost:8080/"
        },
        "id": "HV4471L82dZ2",
        "outputId": "18bddc97-b5a2-4501-e392-c6bbdfc2c740"
      },
      "execution_count": 23,
      "outputs": [
        {
          "output_type": "execute_result",
          "data": {
            "text/plain": [
              "True"
            ]
          },
          "metadata": {},
          "execution_count": 23
        }
      ]
    },
    {
      "cell_type": "markdown",
      "source": [
        "4. Write a Python program to print all happy numbers between 1 and 100?"
      ],
      "metadata": {
        "id": "NPfTw29j5Z8k"
      }
    },
    {
      "cell_type": "code",
      "source": [
        "for i in range(1,101):\n",
        "  if(isHappyNumber(i)):\n",
        "    print(i)"
      ],
      "metadata": {
        "colab": {
          "base_uri": "https://localhost:8080/"
        },
        "id": "IkLEmAap5HfB",
        "outputId": "050d2f4d-7f5f-413c-8f0b-4c83529500d4"
      },
      "execution_count": 29,
      "outputs": [
        {
          "output_type": "stream",
          "name": "stdout",
          "text": [
            "1\n",
            "7\n",
            "10\n",
            "13\n",
            "19\n",
            "23\n",
            "28\n",
            "31\n",
            "32\n",
            "44\n",
            "49\n",
            "68\n",
            "70\n",
            "79\n",
            "82\n",
            "86\n",
            "91\n",
            "94\n",
            "97\n",
            "100\n"
          ]
        }
      ]
    },
    {
      "cell_type": "markdown",
      "source": [
        "5. Write a Python program to determine whether the given number is a Harshad Number?"
      ],
      "metadata": {
        "id": "dsa3PcfV4f5S"
      }
    },
    {
      "cell_type": "code",
      "source": [
        "def isHarshadNumber(num):\n",
        "  num_str=str(num)\n",
        "  ls=[*num_str]\n",
        "  sum=0\n",
        "  for i in range(0,len(ls)):\n",
        "    sum=sum+int(ls[i])\n",
        "  if num%sum==0:\n",
        "    return True\n",
        "  else:\n",
        "    return False"
      ],
      "metadata": {
        "id": "b7P9mGRE2i-F"
      },
      "execution_count": 24,
      "outputs": []
    },
    {
      "cell_type": "code",
      "source": [
        "isHarshadNumber(18)"
      ],
      "metadata": {
        "colab": {
          "base_uri": "https://localhost:8080/"
        },
        "id": "2oR-EOwx4TNt",
        "outputId": "31f9fe06-ed15-4c57-d146-cab825bee4a6"
      },
      "execution_count": 26,
      "outputs": [
        {
          "output_type": "execute_result",
          "data": {
            "text/plain": [
              "True"
            ]
          },
          "metadata": {},
          "execution_count": 26
        }
      ]
    },
    {
      "cell_type": "markdown",
      "source": [
        "6. Write a Python program to print all pronic numbers between 1 and 100?"
      ],
      "metadata": {
        "id": "YxDw0qrf5m5H"
      }
    },
    {
      "cell_type": "code",
      "source": [
        "import math\n",
        "def isPronic(num):\n",
        "  for i in range(1,int(math.sqrt(num))+1):\n",
        "    if(i*(i+1)==num):\n",
        "      return True\n",
        "  return False\n",
        "\n",
        "\n",
        "for i in range(1,101):\n",
        "  if(isPronic(i)):\n",
        "    print(i)"
      ],
      "metadata": {
        "colab": {
          "base_uri": "https://localhost:8080/"
        },
        "id": "Ay9B7iFZ4WCt",
        "outputId": "36e2440f-b1b3-47c6-ff69-047e7852852f"
      },
      "execution_count": 34,
      "outputs": [
        {
          "output_type": "stream",
          "name": "stdout",
          "text": [
            "2\n",
            "6\n",
            "12\n",
            "20\n",
            "30\n",
            "42\n",
            "56\n",
            "72\n",
            "90\n"
          ]
        }
      ]
    },
    {
      "cell_type": "code",
      "source": [
        "import math"
      ],
      "metadata": {
        "id": "1IqyvAvm5Ru1"
      },
      "execution_count": 31,
      "outputs": []
    },
    {
      "cell_type": "code",
      "source": [
        "int(math.sqrt(42))"
      ],
      "metadata": {
        "colab": {
          "base_uri": "https://localhost:8080/"
        },
        "id": "wHwU33bM6H6H",
        "outputId": "768cc194-31e2-455b-d9c4-018851fdeff6"
      },
      "execution_count": 33,
      "outputs": [
        {
          "output_type": "execute_result",
          "data": {
            "text/plain": [
              "6"
            ]
          },
          "metadata": {},
          "execution_count": 33
        }
      ]
    },
    {
      "cell_type": "code",
      "source": [],
      "metadata": {
        "id": "jzFJtAAH6LQ8"
      },
      "execution_count": null,
      "outputs": []
    }
  ]
}