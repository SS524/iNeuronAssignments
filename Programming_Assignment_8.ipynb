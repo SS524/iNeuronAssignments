{
  "nbformat": 4,
  "nbformat_minor": 0,
  "metadata": {
    "colab": {
      "provenance": [],
      "authorship_tag": "ABX9TyPeX1we+zeDW5PIKsdK/nBO",
      "include_colab_link": true
    },
    "kernelspec": {
      "name": "python3",
      "display_name": "Python 3"
    },
    "language_info": {
      "name": "python"
    }
  },
  "cells": [
    {
      "cell_type": "markdown",
      "metadata": {
        "id": "view-in-github",
        "colab_type": "text"
      },
      "source": [
        "<a href=\"https://colab.research.google.com/github/SS524/iNeuronAssignments/blob/main/Programming_Assignment_8.ipynb\" target=\"_parent\"><img src=\"https://colab.research.google.com/assets/colab-badge.svg\" alt=\"Open In Colab\"/></a>"
      ]
    },
    {
      "cell_type": "markdown",
      "source": [
        "1. Write a Python Program to Add Two Matrices?"
      ],
      "metadata": {
        "id": "j1muk6LAFbwd"
      }
    },
    {
      "cell_type": "code",
      "execution_count": 8,
      "metadata": {
        "id": "YodMqsxAFWF_"
      },
      "outputs": [],
      "source": [
        "\n",
        "def matrix_addition(m1,m2):\n",
        "  rows,cols=len(m1),len(m1[0])\n",
        "  result=[[0 for i in range(cols)] for j in range(rows)]\n",
        "  for i in range(len(m1)):\n",
        "    for j in range(len(m1[0])):\n",
        "      result[i][j] = m1[i][j] + m2[i][j]\n",
        "  return result\n",
        "\n"
      ]
    },
    {
      "cell_type": "code",
      "source": [
        "X = [[12,7,3],\n",
        "    [4 ,5,6],\n",
        "    [7 ,8,9]]\n",
        "\n",
        "Y = [[5,8,1],\n",
        "    [6,7,3],\n",
        "    [4,5,9]]\n",
        "matrix_addition(X,Y)"
      ],
      "metadata": {
        "colab": {
          "base_uri": "https://localhost:8080/"
        },
        "id": "fu2XQbsnIeqh",
        "outputId": "86638166-20c2-4ff0-ca67-ae53c68419cc"
      },
      "execution_count": 9,
      "outputs": [
        {
          "output_type": "execute_result",
          "data": {
            "text/plain": [
              "[[17, 15, 4], [10, 12, 9], [11, 13, 18]]"
            ]
          },
          "metadata": {},
          "execution_count": 9
        }
      ]
    },
    {
      "cell_type": "markdown",
      "source": [
        "2. Write a Python Program to Multiply Two Matrices?"
      ],
      "metadata": {
        "id": "fJ3vtVy2KczR"
      }
    },
    {
      "cell_type": "code",
      "source": [
        "def matrix_multiplication(m1,m2):\n",
        "  rows,cols=len(m1),len(m2[0])\n",
        "  result=[[0 for i in range(cols)] for j in range(rows)]\n",
        "  for i in range(len(m1)):\n",
        "    for j in range(len(m2[0])):\n",
        "      for k in range(len(m2)):\n",
        "        result[i][j] += m1[i][k] * m2[k][j]\n",
        "  return result\n"
      ],
      "metadata": {
        "id": "FLMhr99tKLLZ"
      },
      "execution_count": 1,
      "outputs": []
    },
    {
      "cell_type": "code",
      "source": [
        "X = [[12,7,3],\n",
        "    [4 ,5,6],\n",
        "    [7 ,8,9]]\n",
        "# 3x4 matrix\n",
        "Y = [[5,8,1,2],\n",
        "    [6,7,3,0],\n",
        "    [4,5,9,1]]\n",
        "matrix_multiplication(X,Y)"
      ],
      "metadata": {
        "colab": {
          "base_uri": "https://localhost:8080/"
        },
        "id": "s-KRtILUMde2",
        "outputId": "fea615de-1883-42d6-90eb-1a54b380a4e7"
      },
      "execution_count": 2,
      "outputs": [
        {
          "output_type": "execute_result",
          "data": {
            "text/plain": [
              "[[114, 160, 60, 27], [74, 97, 73, 14], [119, 157, 112, 23]]"
            ]
          },
          "metadata": {},
          "execution_count": 2
        }
      ]
    },
    {
      "cell_type": "markdown",
      "source": [
        "3. Write a Python Program to Transpose a Matrix?"
      ],
      "metadata": {
        "id": "pSGf44i6ci2M"
      }
    },
    {
      "cell_type": "code",
      "source": [
        "def matrix_transpose(m1):\n",
        "  rows,cols=len(m1),len(m1[0])\n",
        "  result=[[0 for i in range(rows)] for j in range(cols)]\n",
        "  for i in range(len(m1)):\n",
        "    for j in range(len(m1[0])):\n",
        "      result[j][i] = m1[i][j]\n",
        "  return result"
      ],
      "metadata": {
        "id": "UwVB2tTwMnpI"
      },
      "execution_count": 3,
      "outputs": []
    },
    {
      "cell_type": "code",
      "source": [
        "X = [[12,7],\n",
        "    [4 ,5],\n",
        "    [3 ,8]]\n",
        "matrix_transpose(X)"
      ],
      "metadata": {
        "colab": {
          "base_uri": "https://localhost:8080/"
        },
        "id": "505q55PpdDVR",
        "outputId": "ca60e648-4563-4ca4-e980-0c063579eb0f"
      },
      "execution_count": 4,
      "outputs": [
        {
          "output_type": "execute_result",
          "data": {
            "text/plain": [
              "[[12, 4, 3], [7, 5, 8]]"
            ]
          },
          "metadata": {},
          "execution_count": 4
        }
      ]
    },
    {
      "cell_type": "markdown",
      "source": [
        "4. Write a Python Program to Sort Words in Alphabetic Order?"
      ],
      "metadata": {
        "id": "z99DYfk1eN07"
      }
    },
    {
      "cell_type": "code",
      "source": [
        "def sort_words(s):\n",
        "  ls=[word.lower() for word in s.split()]\n",
        "  ls.sort()\n",
        "  return \" \".join(ls)"
      ],
      "metadata": {
        "id": "xT80vdIieRmL"
      },
      "execution_count": 14,
      "outputs": []
    },
    {
      "cell_type": "code",
      "source": [
        "st=\"He is amazing\"\n",
        "sort_words(st)"
      ],
      "metadata": {
        "colab": {
          "base_uri": "https://localhost:8080/",
          "height": 35
        },
        "id": "KopcrMMkezNJ",
        "outputId": "a7710687-e189-4bc8-897f-f93e5cfa5bda"
      },
      "execution_count": 15,
      "outputs": [
        {
          "output_type": "execute_result",
          "data": {
            "text/plain": [
              "'amazing he is'"
            ],
            "application/vnd.google.colaboratory.intrinsic+json": {
              "type": "string"
            }
          },
          "metadata": {},
          "execution_count": 15
        }
      ]
    },
    {
      "cell_type": "markdown",
      "source": [
        "5. Write a Python Program to Remove Punctuation From a String?"
      ],
      "metadata": {
        "id": "KDg7JijjfE1f"
      }
    },
    {
      "cell_type": "code",
      "source": [
        "def remove_punctuation(s):\n",
        "  punctuations = '''!()-[]{};:'\"\\,<>./?@#$%^&*_~'''\n",
        "  result=\"\"\n",
        "  for char in s:\n",
        "    if char not in punctuations:\n",
        "      result=result+char\n",
        "  return result"
      ],
      "metadata": {
        "id": "ew7WwFRRe79w"
      },
      "execution_count": 16,
      "outputs": []
    },
    {
      "cell_type": "code",
      "source": [
        "my_str = \"Hello!!!, he said ---and went.\"\n",
        "remove_punctuation(my_str)"
      ],
      "metadata": {
        "colab": {
          "base_uri": "https://localhost:8080/",
          "height": 35
        },
        "id": "JlOpX39efvq5",
        "outputId": "4a1d4645-602a-4b0b-c81b-8d9edcf5536c"
      },
      "execution_count": 17,
      "outputs": [
        {
          "output_type": "execute_result",
          "data": {
            "text/plain": [
              "'Hello he said and went'"
            ],
            "application/vnd.google.colaboratory.intrinsic+json": {
              "type": "string"
            }
          },
          "metadata": {},
          "execution_count": 17
        }
      ]
    },
    {
      "cell_type": "code",
      "source": [],
      "metadata": {
        "id": "3_ngqtXQf3Ow"
      },
      "execution_count": null,
      "outputs": []
    }
  ]
}