{
 "cells": [
  {
   "cell_type": "markdown",
   "id": "2a21c852",
   "metadata": {},
   "source": [
    "### Q1. What is the relationship between classes and modules?"
   ]
  },
  {
   "cell_type": "markdown",
   "id": "3788a277",
   "metadata": {},
   "source": [
    "#### Ans - A module is nothing but a.py file in Python that contains classes, methods, and constants. On the other hand, a class is a blueprint for object creation that resides within a module."
   ]
  },
  {
   "cell_type": "markdown",
   "id": "b706db01",
   "metadata": {},
   "source": [
    "### Q2. How do you make instances and classes?"
   ]
  },
  {
   "cell_type": "markdown",
   "id": "19ebd6d9",
   "metadata": {},
   "source": [
    "#### Ans - For making classes, we use class keyword and for making instances, we call the class using class name and pass in whatever arguments its __init__ method accepts."
   ]
  },
  {
   "cell_type": "markdown",
   "id": "0a792020",
   "metadata": {},
   "source": [
    "### Q3. Where and how should be class attributes created?"
   ]
  },
  {
   "cell_type": "markdown",
   "id": "10334e03",
   "metadata": {},
   "source": [
    "#### Ans - Class attributes are created directly inside the class. This attribute is shared by all the objects."
   ]
  },
  {
   "cell_type": "code",
   "execution_count": 1,
   "id": "03fbc816",
   "metadata": {},
   "outputs": [],
   "source": [
    "class Test:\n",
    "    count=0   #class attributes"
   ]
  },
  {
   "cell_type": "code",
   "execution_count": 2,
   "id": "93d73894",
   "metadata": {},
   "outputs": [
    {
     "data": {
      "text/plain": [
       "0"
      ]
     },
     "execution_count": 2,
     "metadata": {},
     "output_type": "execute_result"
    }
   ],
   "source": [
    "Test.count"
   ]
  },
  {
   "cell_type": "markdown",
   "id": "fe563e03",
   "metadata": {},
   "source": [
    "### Q4. Where and how are instance attributes created?"
   ]
  },
  {
   "cell_type": "markdown",
   "id": "026e1ad8",
   "metadata": {},
   "source": [
    "#### Ans - Instance attributes are created within the constructor or __init__ method."
   ]
  },
  {
   "cell_type": "code",
   "execution_count": 3,
   "id": "ceab2006",
   "metadata": {},
   "outputs": [],
   "source": [
    "class Test2:\n",
    "    def __init__(self,a):\n",
    "        self.a=a  #instance variable"
   ]
  },
  {
   "cell_type": "code",
   "execution_count": 4,
   "id": "cf6f027b",
   "metadata": {},
   "outputs": [],
   "source": [
    "t=Test2(3)"
   ]
  },
  {
   "cell_type": "code",
   "execution_count": 5,
   "id": "f476bb47",
   "metadata": {},
   "outputs": [
    {
     "data": {
      "text/plain": [
       "3"
      ]
     },
     "execution_count": 5,
     "metadata": {},
     "output_type": "execute_result"
    }
   ],
   "source": [
    "t.a"
   ]
  },
  {
   "cell_type": "markdown",
   "id": "7dbe3e11",
   "metadata": {},
   "source": [
    "### Q5. What does the term \"self\" in a Python class mean?"
   ]
  },
  {
   "cell_type": "markdown",
   "id": "bad12695",
   "metadata": {},
   "source": [
    "#### Ans - We usually use 'self' as an first argument to any methods within a class. This keyword points to the same class. "
   ]
  },
  {
   "cell_type": "markdown",
   "id": "b72adf60",
   "metadata": {},
   "source": [
    "### Q6. How does a Python class handle operator overloading?"
   ]
  },
  {
   "cell_type": "markdown",
   "id": "3eb98c66",
   "metadata": {},
   "source": [
    "#### Ans - Operator Overloading means giving extended meaning beyond their predefined operational meaning. For example operator + is used to add two integers as well as join two strings and merge two lists. It is achievable because ‘+’ operator is overloaded by int class and str class."
   ]
  },
  {
   "cell_type": "code",
   "execution_count": 6,
   "id": "3d2c2394",
   "metadata": {},
   "outputs": [
    {
     "name": "stdout",
     "output_type": "stream",
     "text": [
      "7\n",
      "Soumyadeep Saha\n"
     ]
    }
   ],
   "source": [
    "print(3+4)\n",
    "print('Soumyadeep '+'Saha')"
   ]
  },
  {
   "cell_type": "markdown",
   "id": "29a87ae9",
   "metadata": {},
   "source": [
    "### Q7. When do you consider allowing operator overloading of your classes?"
   ]
  },
  {
   "cell_type": "markdown",
   "id": "04956115",
   "metadata": {},
   "source": [
    "#### Ans - Operator overloading is mostly useful when you're making a new class that falls into an existing \"Abstract Base Class\""
   ]
  },
  {
   "cell_type": "markdown",
   "id": "e468afb3",
   "metadata": {},
   "source": [
    "### Q8. What is the most popular form of operator overloading?"
   ]
  },
  {
   "cell_type": "markdown",
   "id": "308b44e0",
   "metadata": {},
   "source": [
    "#### Ans - The most popular form of operator overloading is to use + operator in different context."
   ]
  },
  {
   "cell_type": "markdown",
   "id": "871a0c31",
   "metadata": {},
   "source": [
    "### Q9. What are the two most important concepts to grasp in order to comprehend Python OOP code?"
   ]
  },
  {
   "cell_type": "markdown",
   "id": "485edb6b",
   "metadata": {},
   "source": [
    "#### Ans - The two most important concepts to grasp in order to comprehend Python OOP code are - Inheritance and Polymorphism"
   ]
  },
  {
   "cell_type": "code",
   "execution_count": null,
   "id": "b24de51a",
   "metadata": {},
   "outputs": [],
   "source": []
  }
 ],
 "metadata": {
  "kernelspec": {
   "display_name": "Python 3 (ipykernel)",
   "language": "python",
   "name": "python3"
  },
  "language_info": {
   "codemirror_mode": {
    "name": "ipython",
    "version": 3
   },
   "file_extension": ".py",
   "mimetype": "text/x-python",
   "name": "python",
   "nbconvert_exporter": "python",
   "pygments_lexer": "ipython3",
   "version": "3.9.12"
  }
 },
 "nbformat": 4,
 "nbformat_minor": 5
}
