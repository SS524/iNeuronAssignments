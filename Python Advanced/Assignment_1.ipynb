{
 "cells": [
  {
   "cell_type": "markdown",
   "id": "a7724f3c",
   "metadata": {},
   "source": [
    "### Q1. What is the purpose of Python's OOP?"
   ]
  },
  {
   "cell_type": "markdown",
   "id": "2cb4ded2",
   "metadata": {},
   "source": [
    "#### Ans - In Python, object-oriented Programming (OOPs) is a programming paradigm that uses objects and classes in programming. It is used to implement real-world entities like inheritance, polymorphisms, encapsulation, etc. in the programming. The main concept of OOPs is to bind the data and the functions that work on that together as a single unit so that no other part of the code can access this data."
   ]
  },
  {
   "cell_type": "markdown",
   "id": "aeda5e01",
   "metadata": {},
   "source": [
    "### Q2. Where does an inheritance search look for an attribute?"
   ]
  },
  {
   "cell_type": "markdown",
   "id": "d01e1297",
   "metadata": {},
   "source": [
    "#### Ans - An inheritance search looks for an attribute first in the instance object, then in the class the instance was created from, then in all higher superclasses, progressing from left to right (by default). The search stops at the first place the attribute is found."
   ]
  },
  {
   "cell_type": "markdown",
   "id": "b5289177",
   "metadata": {},
   "source": [
    "### Q3. How do you distinguish between a class object and an instance object?"
   ]
  },
  {
   "cell_type": "markdown",
   "id": "4b0ada1b",
   "metadata": {},
   "source": [
    "#### Ans - Class is a blueprint of the object creation, whereas, the object is an instance of a class"
   ]
  },
  {
   "cell_type": "markdown",
   "id": "8d31983b",
   "metadata": {},
   "source": [
    "### Q4. What makes the first argument in a class’s method function special?"
   ]
  },
  {
   "cell_type": "markdown",
   "id": "832c1ace",
   "metadata": {},
   "source": [
    "#### Ans - The first argument in a class's method is basically a pointer to that particular class."
   ]
  },
  {
   "cell_type": "markdown",
   "id": "0a4a8da7",
   "metadata": {},
   "source": [
    "### Q5. What is the purpose of the __init__ method?"
   ]
  },
  {
   "cell_type": "markdown",
   "id": "f1323057",
   "metadata": {},
   "source": [
    "#### Ans - __init__ method is used to initialize the the attributes of the class while creating the object"
   ]
  },
  {
   "cell_type": "markdown",
   "id": "57e660ed",
   "metadata": {},
   "source": [
    "### Q6. What is the process for creating a class instance?"
   ]
  },
  {
   "cell_type": "markdown",
   "id": "1038869a",
   "metadata": {},
   "source": [
    "#### Ans - If the class name is 'test', then we create the instance object by using the following syntax\n",
    "#### t1=test().\n",
    "#### If we use __init__ method to initialize the member of the class, then we have to pass those arguments while creating the object. For example - \n"
   ]
  },
  {
   "cell_type": "code",
   "execution_count": 3,
   "id": "b4ac1436",
   "metadata": {},
   "outputs": [],
   "source": [
    "class test:\n",
    "    def __init__(self,a,b):\n",
    "        self.a=a\n",
    "        self.b=b\n",
    "t1=test(20,30)"
   ]
  },
  {
   "cell_type": "markdown",
   "id": "4f8c45a2",
   "metadata": {},
   "source": [
    "### Q7. What is the process for creating a class?"
   ]
  },
  {
   "cell_type": "code",
   "execution_count": 4,
   "id": "3d3379a8",
   "metadata": {},
   "outputs": [],
   "source": [
    "#by using class keyword\n",
    "class test:\n",
    "    pass"
   ]
  },
  {
   "cell_type": "markdown",
   "id": "11d09174",
   "metadata": {},
   "source": [
    "### Q8. How would you define the superclasses of a class?"
   ]
  },
  {
   "cell_type": "markdown",
   "id": "e6c76242",
   "metadata": {},
   "source": [
    "#### Ans - The concept of superclass comes from the inheritance. Let's say, there is a class called 'Maruti' and this class has inherited a base class called 'Car'"
   ]
  },
  {
   "cell_type": "code",
   "execution_count": 5,
   "id": "be50b0e7",
   "metadata": {},
   "outputs": [],
   "source": [
    "class Car:\n",
    "    def move(self):\n",
    "        print('The car is moving')\n",
    "class Maruti(Car):\n",
    "    def playmusic(self):\n",
    "        print('This car can play music..')"
   ]
  },
  {
   "cell_type": "markdown",
   "id": "4f872cfd",
   "metadata": {},
   "source": [
    "#### Here 'Car' is the superclass and 'Maruti' is the child class. Child class is inheriting all the methods and attributes from it's superclass which is 'Car' "
   ]
  },
  {
   "cell_type": "code",
   "execution_count": null,
   "id": "6a9168e8",
   "metadata": {},
   "outputs": [],
   "source": []
  }
 ],
 "metadata": {
  "kernelspec": {
   "display_name": "Python 3 (ipykernel)",
   "language": "python",
   "name": "python3"
  },
  "language_info": {
   "codemirror_mode": {
    "name": "ipython",
    "version": 3
   },
   "file_extension": ".py",
   "mimetype": "text/x-python",
   "name": "python",
   "nbconvert_exporter": "python",
   "pygments_lexer": "ipython3",
   "version": "3.9.12"
  }
 },
 "nbformat": 4,
 "nbformat_minor": 5
}
