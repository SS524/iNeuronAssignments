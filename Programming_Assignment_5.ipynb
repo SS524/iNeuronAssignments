{
  "nbformat": 4,
  "nbformat_minor": 0,
  "metadata": {
    "colab": {
      "provenance": [],
      "authorship_tag": "ABX9TyOK/LrDx4NF9n6ud645AurL",
      "include_colab_link": true
    },
    "kernelspec": {
      "name": "python3",
      "display_name": "Python 3"
    },
    "language_info": {
      "name": "python"
    }
  },
  "cells": [
    {
      "cell_type": "markdown",
      "metadata": {
        "id": "view-in-github",
        "colab_type": "text"
      },
      "source": [
        "<a href=\"https://colab.research.google.com/github/SS524/iNeuronAssignments/blob/main/Programming_Assignment_5.ipynb\" target=\"_parent\"><img src=\"https://colab.research.google.com/assets/colab-badge.svg\" alt=\"Open In Colab\"/></a>"
      ]
    },
    {
      "cell_type": "markdown",
      "source": [
        "1. Write a Python Program to Find LCM?"
      ],
      "metadata": {
        "id": "O7jyg30iZ-TQ"
      }
    },
    {
      "cell_type": "code",
      "execution_count": 1,
      "metadata": {
        "colab": {
          "base_uri": "https://localhost:8080/"
        },
        "id": "jlGK4P9EZ8Hd",
        "outputId": "2cc27ce8-7c54-4b2a-bf00-65d3bd712a89"
      },
      "outputs": [
        {
          "output_type": "stream",
          "name": "stdout",
          "text": [
            "The L.C.M. is 216\n"
          ]
        }
      ],
      "source": [
        "\n",
        "def compute_lcm(x, y):\n",
        "   if x > y:\n",
        "       greater = x\n",
        "   else:\n",
        "       greater = y\n",
        "\n",
        "   while(True):\n",
        "       if((greater % x == 0) and (greater % y == 0)):\n",
        "           lcm = greater\n",
        "           break\n",
        "       greater += 1\n",
        "\n",
        "   return lcm\n",
        "\n",
        "num1 = 54\n",
        "num2 = 24\n",
        "\n",
        "print(\"The L.C.M. is\", compute_lcm(num1, num2))"
      ]
    },
    {
      "cell_type": "markdown",
      "source": [
        "2. Write a Python Program to Find HCF?"
      ],
      "metadata": {
        "id": "spEi8aqGg6sV"
      }
    },
    {
      "cell_type": "code",
      "source": [
        "\n",
        "\n",
        "def compute_hcf(x, y):\n",
        "    if x > y:\n",
        "        smaller = y\n",
        "    else:\n",
        "        smaller = x\n",
        "    for i in range(1, smaller+1):\n",
        "        if((x % i == 0) and (y % i == 0)):\n",
        "            hcf = i \n",
        "    return hcf\n",
        "\n",
        "num1 = 54 \n",
        "num2 = 24\n",
        "\n",
        "print(\"The H.C.F. is\", compute_hcf(num1, num2))\n"
      ],
      "metadata": {
        "colab": {
          "base_uri": "https://localhost:8080/"
        },
        "id": "F3rR4JsWgmmE",
        "outputId": "80afbf58-4d23-4732-be4b-7c14c9af55cf"
      },
      "execution_count": 2,
      "outputs": [
        {
          "output_type": "stream",
          "name": "stdout",
          "text": [
            "The H.C.F. is 6\n"
          ]
        }
      ]
    },
    {
      "cell_type": "markdown",
      "source": [
        "3. Write a Python Program to Convert Decimal to Binary, Octal and Hexadecimal?"
      ],
      "metadata": {
        "id": "kULIEWhLhZq8"
      }
    },
    {
      "cell_type": "code",
      "source": [
        "def decimal_to_binary(num):\n",
        "  a=num\n",
        "  ls=[]\n",
        "  while(a!=0):\n",
        "    mod=a%2\n",
        "    ls.insert(0,str(mod))\n",
        "    a=int(a/2)\n",
        "  return \"\".join(ls)\n"
      ],
      "metadata": {
        "id": "qxAu3Bxfg4N2"
      },
      "execution_count": 10,
      "outputs": []
    },
    {
      "cell_type": "code",
      "source": [
        "decimal_to_binary(73)"
      ],
      "metadata": {
        "colab": {
          "base_uri": "https://localhost:8080/",
          "height": 35
        },
        "id": "3WahyG33jsK0",
        "outputId": "38660ece-e570-472e-a66e-03da629d57f2"
      },
      "execution_count": 12,
      "outputs": [
        {
          "output_type": "execute_result",
          "data": {
            "text/plain": [
              "'1001001'"
            ],
            "application/vnd.google.colaboratory.intrinsic+json": {
              "type": "string"
            }
          },
          "metadata": {},
          "execution_count": 12
        }
      ]
    },
    {
      "cell_type": "code",
      "source": [
        "def decimal_to_octal(num):\n",
        "    a=num\n",
        "    ls=[]\n",
        "    while(a!=0):\n",
        "      mod=a%8\n",
        "      ls.insert(0,str(mod))\n",
        "      a=int(a/8)\n",
        "    return \"\".join(ls)\n"
      ],
      "metadata": {
        "id": "vq4MJtY_kPUE"
      },
      "execution_count": 13,
      "outputs": []
    },
    {
      "cell_type": "code",
      "source": [
        "decimal_to_octal(349)"
      ],
      "metadata": {
        "colab": {
          "base_uri": "https://localhost:8080/",
          "height": 35
        },
        "id": "93QH-Jcpk75K",
        "outputId": "12ff995a-0320-43ca-f9a8-5200708d9a5c"
      },
      "execution_count": 15,
      "outputs": [
        {
          "output_type": "execute_result",
          "data": {
            "text/plain": [
              "'535'"
            ],
            "application/vnd.google.colaboratory.intrinsic+json": {
              "type": "string"
            }
          },
          "metadata": {},
          "execution_count": 15
        }
      ]
    },
    {
      "cell_type": "code",
      "source": [
        "\n",
        "def decimal_to_hexadecimal(num):\n",
        "    a=num\n",
        "    ls=[]\n",
        "    while(a!=0):\n",
        "      mod=a%16\n",
        "      if mod==10:\n",
        "        ls.insert(0,\"A\")\n",
        "      elif mod==11:\n",
        "        ls.insert(0,\"B\")\n",
        "      elif mod==12:\n",
        "        ls.insert(0,\"C\")\n",
        "      elif mod==13:\n",
        "        ls.insert(0,\"D\")\n",
        "      elif mod==14:\n",
        "        ls.insert(0,\"E\")\n",
        "      elif mod==15:\n",
        "        ls.insert(0,\"F\")\n",
        "      else:\n",
        "        ls.insert(0,str(mod))\n",
        "      a=int(a/16)\n",
        "    return \"\".join(ls)"
      ],
      "metadata": {
        "id": "jOmE38p4k-6s"
      },
      "execution_count": 16,
      "outputs": []
    },
    {
      "cell_type": "code",
      "source": [
        "decimal_to_hexadecimal(3205)"
      ],
      "metadata": {
        "colab": {
          "base_uri": "https://localhost:8080/",
          "height": 35
        },
        "id": "cHtj_0qgnzLq",
        "outputId": "544f36a2-5b47-4f4e-f6ea-0238928c77f8"
      },
      "execution_count": 17,
      "outputs": [
        {
          "output_type": "execute_result",
          "data": {
            "text/plain": [
              "'C85'"
            ],
            "application/vnd.google.colaboratory.intrinsic+json": {
              "type": "string"
            }
          },
          "metadata": {},
          "execution_count": 17
        }
      ]
    },
    {
      "cell_type": "markdown",
      "source": [
        "4. Write a Python Program To Find ASCII value of a character?"
      ],
      "metadata": {
        "id": "3Vd-LEwmouSN"
      }
    },
    {
      "cell_type": "code",
      "source": [
        "\n",
        "c = 'z'\n",
        "print(\"The ASCII value of '\" + c + \"' is\", ord(c))\n"
      ],
      "metadata": {
        "colab": {
          "base_uri": "https://localhost:8080/"
        },
        "id": "WKUpEmHyn2SN",
        "outputId": "bf218be8-b569-4e2b-c5b3-4c8d2f23fa85"
      },
      "execution_count": 19,
      "outputs": [
        {
          "output_type": "stream",
          "name": "stdout",
          "text": [
            "The ASCII value of 'z' is 122\n"
          ]
        }
      ]
    },
    {
      "cell_type": "markdown",
      "source": [
        "5. Write a Python Program to Make a Simple Calculator with 4 basic mathematical operations?"
      ],
      "metadata": {
        "id": "cDZr6oNFpGUV"
      }
    },
    {
      "cell_type": "code",
      "source": [
        "def calculator(n1,n2):\n",
        "  add=n1+n1\n",
        "  mul=n1*n2\n",
        "  sub=n1-n2\n",
        "  if(n2==0):\n",
        "    div=\"Division not possible by zero\"\n",
        "  else:\n",
        "    div=n1/n2\n",
        "  return f\"Addition: {add}, multiplication: {mul}, subtraction: {sub}, division: {div}\""
      ],
      "metadata": {
        "id": "PGdv6jsRo5iF"
      },
      "execution_count": 23,
      "outputs": []
    },
    {
      "cell_type": "code",
      "source": [
        "calculator(10,0)"
      ],
      "metadata": {
        "colab": {
          "base_uri": "https://localhost:8080/",
          "height": 35
        },
        "id": "MJPDHDuCp-Y8",
        "outputId": "67addbcd-8844-4e09-cfe5-c4e55f980f7c"
      },
      "execution_count": 24,
      "outputs": [
        {
          "output_type": "execute_result",
          "data": {
            "text/plain": [
              "'Addition: 20, multiplication: 0, subtraction: 10, division: Division not possible by zero'"
            ],
            "application/vnd.google.colaboratory.intrinsic+json": {
              "type": "string"
            }
          },
          "metadata": {},
          "execution_count": 24
        }
      ]
    },
    {
      "cell_type": "code",
      "source": [],
      "metadata": {
        "id": "18PMCkRRqB0c"
      },
      "execution_count": null,
      "outputs": []
    }
  ]
}