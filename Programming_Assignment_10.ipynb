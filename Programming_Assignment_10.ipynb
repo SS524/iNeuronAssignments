{
  "nbformat": 4,
  "nbformat_minor": 0,
  "metadata": {
    "colab": {
      "provenance": [],
      "authorship_tag": "ABX9TyP7g9xAQJdpWCoxBeLiTZhM",
      "include_colab_link": true
    },
    "kernelspec": {
      "name": "python3",
      "display_name": "Python 3"
    },
    "language_info": {
      "name": "python"
    }
  },
  "cells": [
    {
      "cell_type": "markdown",
      "metadata": {
        "id": "view-in-github",
        "colab_type": "text"
      },
      "source": [
        "<a href=\"https://colab.research.google.com/github/SS524/iNeuronAssignments/blob/main/Programming_Assignment_10.ipynb\" target=\"_parent\"><img src=\"https://colab.research.google.com/assets/colab-badge.svg\" alt=\"Open In Colab\"/></a>"
      ]
    },
    {
      "cell_type": "markdown",
      "source": [
        "1. Write a Python program to find sum of elements in list?\n",
        "2. Write a Python program to Multiply all numbers in the list?\n",
        "3. Write a Python program to find smallest number in a list?\n",
        "4. Write a Python program to find largest number in a list?\n",
        "5. Write a Python program to find second largest number in a list?\n",
        "6. Write a Python program to find N largest elements from a list?\n",
        "7. Write a Python program to print even numbers in a list?\n",
        "8. Write a Python program to print odd numbers in a List?\n",
        "9. Write a Python program to Remove empty List from List?\n",
        "10. Write a Python program to Cloning or Copying a list?\n",
        "11. Write a Python program to Count occurrences of an element in a list?"
      ],
      "metadata": {
        "id": "tlV_lnqWfTvE"
      }
    },
    {
      "cell_type": "code",
      "source": [
        "def find_sum_list(ls):\n",
        "  sum=0\n",
        "  for item in ls:\n",
        "    sum=sum+item\n",
        "  return sum\n",
        "find_sum_list([2,4,5,6,7])"
      ],
      "metadata": {
        "colab": {
          "base_uri": "https://localhost:8080/"
        },
        "id": "BwhpZBOAfZij",
        "outputId": "d44d57d4-70c4-4a6b-bfca-e66746248d1d"
      },
      "execution_count": 2,
      "outputs": [
        {
          "output_type": "execute_result",
          "data": {
            "text/plain": [
              "24"
            ]
          },
          "metadata": {},
          "execution_count": 2
        }
      ]
    },
    {
      "cell_type": "code",
      "source": [
        "def find_mul_list(ls):\n",
        "  prod=1\n",
        "  for item in ls:\n",
        "    prod=prod*item\n",
        "  return prod\n",
        "find_mul_list([2,4,5,6,7])"
      ],
      "metadata": {
        "colab": {
          "base_uri": "https://localhost:8080/"
        },
        "id": "Sn2aY2_WfvAo",
        "outputId": "bc6f813c-5bfa-4ca4-d829-328123b64125"
      },
      "execution_count": 5,
      "outputs": [
        {
          "output_type": "execute_result",
          "data": {
            "text/plain": [
              "1680"
            ]
          },
          "metadata": {},
          "execution_count": 5
        }
      ]
    },
    {
      "cell_type": "code",
      "source": [
        "def min_list(ls):\n",
        "  return min(ls)\n",
        "min_list([2,4,6,1,6,2])"
      ],
      "metadata": {
        "colab": {
          "base_uri": "https://localhost:8080/"
        },
        "id": "j-A2z2PHgAoE",
        "outputId": "18b9c8a0-0852-4f19-834b-6950021c53e4"
      },
      "execution_count": 6,
      "outputs": [
        {
          "output_type": "execute_result",
          "data": {
            "text/plain": [
              "1"
            ]
          },
          "metadata": {},
          "execution_count": 6
        }
      ]
    },
    {
      "cell_type": "code",
      "source": [
        "def max_list(ls):\n",
        "  return max(ls)\n",
        "max_list([2,4,6,1,6,2])"
      ],
      "metadata": {
        "colab": {
          "base_uri": "https://localhost:8080/"
        },
        "id": "WYaUCw1rgeM8",
        "outputId": "8b500db7-a567-4a23-d516-8d0b593296fd"
      },
      "execution_count": 8,
      "outputs": [
        {
          "output_type": "execute_result",
          "data": {
            "text/plain": [
              "6"
            ]
          },
          "metadata": {},
          "execution_count": 8
        }
      ]
    },
    {
      "cell_type": "code",
      "source": [
        "def second_max_list(ls):\n",
        "  second_max=max([i for i in ls if i!=max(ls)])\n",
        "  return second_max\n",
        "\n",
        "second_max_list([2,4,6,1,6,2])"
      ],
      "metadata": {
        "colab": {
          "base_uri": "https://localhost:8080/"
        },
        "id": "PDejhm_7glDj",
        "outputId": "70dbd4b6-6a34-4298-8bb9-e31fc34defe1"
      },
      "execution_count": 10,
      "outputs": [
        {
          "output_type": "execute_result",
          "data": {
            "text/plain": [
              "4"
            ]
          },
          "metadata": {},
          "execution_count": 10
        }
      ]
    },
    {
      "cell_type": "code",
      "source": [
        "def nth_max_list(ls,n):\n",
        "  ls.sort(reverse=True)\n",
        "  return ls[n-1]\n",
        "\n",
        "nth_max_list([2,4,6,1,6,2],3)"
      ],
      "metadata": {
        "colab": {
          "base_uri": "https://localhost:8080/"
        },
        "id": "z3QYia9KhKgt",
        "outputId": "a7de824e-7431-43e8-f980-38377acda4ca"
      },
      "execution_count": 14,
      "outputs": [
        {
          "output_type": "execute_result",
          "data": {
            "text/plain": [
              "4"
            ]
          },
          "metadata": {},
          "execution_count": 14
        }
      ]
    },
    {
      "cell_type": "code",
      "source": [
        "def print_even_list(ls):\n",
        "  for i in ls:\n",
        "    if(i%2==0):\n",
        "      print(i)\n",
        "print_even_list([34,6,2,6,7,8,39])"
      ],
      "metadata": {
        "colab": {
          "base_uri": "https://localhost:8080/"
        },
        "id": "YlCk2a0AisNL",
        "outputId": "db9a2b67-25ae-4477-810b-5103d6bad22b"
      },
      "execution_count": 15,
      "outputs": [
        {
          "output_type": "stream",
          "name": "stdout",
          "text": [
            "34\n",
            "6\n",
            "2\n",
            "6\n",
            "8\n"
          ]
        }
      ]
    },
    {
      "cell_type": "code",
      "source": [
        "def print_odd_list(ls):\n",
        "  for i in ls:\n",
        "    if(i%2!=0):\n",
        "      print(i)\n",
        "print_odd_list([34,6,2,6,7,8,39])"
      ],
      "metadata": {
        "colab": {
          "base_uri": "https://localhost:8080/"
        },
        "id": "77bIpV-tsZW8",
        "outputId": "8975ebaf-658d-4aff-813b-a8c3a6fb25ac"
      },
      "execution_count": 16,
      "outputs": [
        {
          "output_type": "stream",
          "name": "stdout",
          "text": [
            "7\n",
            "39\n"
          ]
        }
      ]
    },
    {
      "cell_type": "code",
      "source": [
        "def remove_empty_list(ls):\n",
        "  res=[i for i in ls if i!=[]]\n",
        "  return res\n",
        "remove_empty_list([2,4,5,[],7,[],10])"
      ],
      "metadata": {
        "colab": {
          "base_uri": "https://localhost:8080/"
        },
        "id": "k3L0ZhicsvdD",
        "outputId": "7e23760e-17ab-4caa-f2e0-ca64273f761b"
      },
      "execution_count": 17,
      "outputs": [
        {
          "output_type": "execute_result",
          "data": {
            "text/plain": [
              "[2, 4, 5, 7, 10]"
            ]
          },
          "metadata": {},
          "execution_count": 17
        }
      ]
    },
    {
      "cell_type": "code",
      "source": [
        "def copy_list(ls):\n",
        "  return ls.copy()\n",
        "copy_list([2,4,6,7,8])"
      ],
      "metadata": {
        "colab": {
          "base_uri": "https://localhost:8080/"
        },
        "id": "6dISec8utzEc",
        "outputId": "5e090441-9761-496f-a09a-83da60072a44"
      },
      "execution_count": 18,
      "outputs": [
        {
          "output_type": "execute_result",
          "data": {
            "text/plain": [
              "[2, 4, 6, 7, 8]"
            ]
          },
          "metadata": {},
          "execution_count": 18
        }
      ]
    },
    {
      "cell_type": "code",
      "source": [
        "def count_occurences(ls,num):\n",
        "  count=0\n",
        "  for i in ls:\n",
        "    if i==num:\n",
        "      count=count+1\n",
        "  return count\n",
        "count_occurences([3,5,2,1,4,3,6,67],3)"
      ],
      "metadata": {
        "colab": {
          "base_uri": "https://localhost:8080/"
        },
        "id": "nWINfw-kt9lS",
        "outputId": "b718fc1a-5c67-4015-d930-400975e5f62a"
      },
      "execution_count": 19,
      "outputs": [
        {
          "output_type": "execute_result",
          "data": {
            "text/plain": [
              "2"
            ]
          },
          "metadata": {},
          "execution_count": 19
        }
      ]
    },
    {
      "cell_type": "code",
      "source": [],
      "metadata": {
        "id": "Ypp1szQKuVz0"
      },
      "execution_count": null,
      "outputs": []
    }
  ]
}