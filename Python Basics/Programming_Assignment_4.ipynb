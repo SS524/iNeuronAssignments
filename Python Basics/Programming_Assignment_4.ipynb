{
 "cells": [
  {
   "cell_type": "markdown",
   "id": "57468ed3",
   "metadata": {},
   "source": [
    "### 1. Write a Python Program to Find the Factorial of a Number?"
   ]
  },
  {
   "cell_type": "code",
   "execution_count": 10,
   "id": "cde2ac91",
   "metadata": {},
   "outputs": [
    {
     "data": {
      "text/plain": [
       "720"
      ]
     },
     "execution_count": 10,
     "metadata": {},
     "output_type": "execute_result"
    }
   ],
   "source": [
    "def fact(n):\n",
    "    if n==0 or n==1:\n",
    "        return 1\n",
    "    res=1\n",
    "    for i in range(1,n+1):\n",
    "        res=res*i\n",
    "    return res\n",
    "fact(6)"
   ]
  },
  {
   "cell_type": "markdown",
   "id": "969abaa2",
   "metadata": {},
   "source": [
    "### 2. Write a Python Program to Display the multiplication Table?"
   ]
  },
  {
   "cell_type": "code",
   "execution_count": 11,
   "id": "d7aad2d6",
   "metadata": {},
   "outputs": [],
   "source": [
    "def mul_table(n):\n",
    "    for i in range(1,11):\n",
    "        print(f'{n}*{i}={n*i}')"
   ]
  },
  {
   "cell_type": "code",
   "execution_count": 14,
   "id": "6d427c14",
   "metadata": {},
   "outputs": [
    {
     "name": "stdout",
     "output_type": "stream",
     "text": [
      "17*1=17\n",
      "17*2=34\n",
      "17*3=51\n",
      "17*4=68\n",
      "17*5=85\n",
      "17*6=102\n",
      "17*7=119\n",
      "17*8=136\n",
      "17*9=153\n",
      "17*10=170\n"
     ]
    }
   ],
   "source": [
    "mul_table(17)"
   ]
  },
  {
   "cell_type": "markdown",
   "id": "709ad966",
   "metadata": {},
   "source": [
    "### 3. Write a Python Program to Print the Fibonacci sequence?"
   ]
  },
  {
   "cell_type": "code",
   "execution_count": 22,
   "id": "364a28d4",
   "metadata": {},
   "outputs": [],
   "source": [
    "def fibo(n):\n",
    "    n1,n2=0,1\n",
    "    c=0\n",
    "    if n<=0:\n",
    "        print('Please enter a positive number')\n",
    "    elif n==1:\n",
    "        print('The sequence is\\n',n1)\n",
    "    else:\n",
    "        print('The sequence is\\n')\n",
    "        while(c<n):\n",
    "            print(n1)\n",
    "            sum=n1+n2\n",
    "            n1=n2\n",
    "            n2=sum\n",
    "            c=c+1\n",
    "        "
   ]
  },
  {
   "cell_type": "code",
   "execution_count": 24,
   "id": "f4935dcf",
   "metadata": {},
   "outputs": [
    {
     "name": "stdout",
     "output_type": "stream",
     "text": [
      "The sequence is\n",
      "\n",
      "0\n",
      "1\n",
      "1\n",
      "2\n",
      "3\n",
      "5\n",
      "8\n",
      "13\n"
     ]
    }
   ],
   "source": [
    "fibo(8)"
   ]
  },
  {
   "cell_type": "markdown",
   "id": "dfd753bc",
   "metadata": {},
   "source": [
    "### 4. Write a Python Program to Check Armstrong Number?"
   ]
  },
  {
   "cell_type": "code",
   "execution_count": 27,
   "id": "0d2144f8",
   "metadata": {},
   "outputs": [],
   "source": [
    "def arm_check(n):\n",
    "    sum=0\n",
    "    n1=n\n",
    "    while(n1!=0):\n",
    "        rem=n1%10\n",
    "        sum=sum+rem*rem*rem\n",
    "        n1=int(n1/10)\n",
    "    if(sum==n):\n",
    "        print('This is a armstrong number')\n",
    "    else:\n",
    "        print('This is not a armstrong number')\n",
    "    "
   ]
  },
  {
   "cell_type": "code",
   "execution_count": 36,
   "id": "88104422",
   "metadata": {},
   "outputs": [
    {
     "name": "stdout",
     "output_type": "stream",
     "text": [
      "This is a armstrong number\n"
     ]
    }
   ],
   "source": [
    "arm_check(153)\n"
   ]
  },
  {
   "cell_type": "markdown",
   "id": "a141e439",
   "metadata": {},
   "source": [
    "### 5. Write a Python Program to Find Armstrong Number in an Interval?"
   ]
  },
  {
   "cell_type": "code",
   "execution_count": 1,
   "id": "c61a5212",
   "metadata": {},
   "outputs": [
    {
     "name": "stdout",
     "output_type": "stream",
     "text": [
      "Enter the starting number23\n",
      "Enter the ending number400\n",
      "[153, 370, 371]\n"
     ]
    }
   ],
   "source": [
    "def arm_check(n):\n",
    "    sum=0\n",
    "    n1=n\n",
    "    while(n1!=0):\n",
    "        rem=n1%10\n",
    "        sum=sum+rem*rem*rem\n",
    "        n1=int(n1/10)\n",
    "    if(sum==n):\n",
    "        return True\n",
    "    else:\n",
    "        return False\n",
    "    \n",
    "start=int(input('Enter the starting number'))\n",
    "end=int(input('Enter the ending number'))\n",
    "ls=[]\n",
    "for i in range(start,end+1):\n",
    "    if arm_check(i):\n",
    "        ls.append(i)\n",
    "print(ls)"
   ]
  },
  {
   "cell_type": "markdown",
   "id": "83b725dc",
   "metadata": {},
   "source": [
    "### 6. Write a Python Program to Find the Sum of Natural Numbers?"
   ]
  },
  {
   "cell_type": "code",
   "execution_count": 2,
   "id": "25dbe16a",
   "metadata": {},
   "outputs": [],
   "source": [
    "def natural_num_sum(n):\n",
    "    sum=(n*(n+1))/2\n",
    "    return sum"
   ]
  },
  {
   "cell_type": "code",
   "execution_count": 3,
   "id": "c6219bba",
   "metadata": {},
   "outputs": [
    {
     "data": {
      "text/plain": [
       "55.0"
      ]
     },
     "execution_count": 3,
     "metadata": {},
     "output_type": "execute_result"
    }
   ],
   "source": [
    "natural_num_sum(10)"
   ]
  },
  {
   "cell_type": "code",
   "execution_count": null,
   "id": "d62a6be7",
   "metadata": {},
   "outputs": [],
   "source": []
  }
 ],
 "metadata": {
  "kernelspec": {
   "display_name": "Python 3 (ipykernel)",
   "language": "python",
   "name": "python3"
  },
  "language_info": {
   "codemirror_mode": {
    "name": "ipython",
    "version": 3
   },
   "file_extension": ".py",
   "mimetype": "text/x-python",
   "name": "python",
   "nbconvert_exporter": "python",
   "pygments_lexer": "ipython3",
   "version": "3.9.12"
  }
 },
 "nbformat": 4,
 "nbformat_minor": 5
}
