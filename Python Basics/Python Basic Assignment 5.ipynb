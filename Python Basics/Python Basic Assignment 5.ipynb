{
 "cells": [
  {
   "cell_type": "markdown",
   "id": "48a26b34",
   "metadata": {},
   "source": [
    "### 1.\tWhat does an empty dictionary’s code look like?"
   ]
  },
  {
   "cell_type": "markdown",
   "id": "bb407dcf",
   "metadata": {},
   "source": [
    "#### Answer: The empty dictionary looks like this – {}"
   ]
  },
  {
   "cell_type": "markdown",
   "id": "0d2bbc03",
   "metadata": {},
   "source": [
    "### 2.\tWhat is the value of a dictionary value with the key ‘foo’ and the value 42?"
   ]
  },
  {
   "cell_type": "markdown",
   "id": "7fcd2065",
   "metadata": {},
   "source": [
    "#### Answer: dic={‘foo’:42}"
   ]
  },
  {
   "cell_type": "markdown",
   "id": "13c89db0",
   "metadata": {},
   "source": [
    "### 3.\tWhat is the most significant distinction between a dictionary and a list?"
   ]
  },
  {
   "cell_type": "markdown",
   "id": "9726ebcb",
   "metadata": {},
   "source": [
    "#### Answer: List is a collection of index values pairs, whereas Dictionary is a hashed structure of key and value pairs."
   ]
  },
  {
   "cell_type": "markdown",
   "id": "968cc93f",
   "metadata": {},
   "source": [
    "### 4.\tWhat happens if you try to access spam[‘foo’] if spam is {‘bar’: 100}?"
   ]
  },
  {
   "cell_type": "markdown",
   "id": "c15b1d35",
   "metadata": {},
   "source": [
    "#### Answer: This will give us keyError as ‘foo’ is not present in the spam dictionary as a key"
   ]
  },
  {
   "cell_type": "markdown",
   "id": "181782c2",
   "metadata": {},
   "source": [
    "###  5. If a dictionary is stored in spam, what is the difference between the expressions ‘cat’ in spam and ‘cat’ in spam.keys()?\n"
   ]
  },
  {
   "cell_type": "markdown",
   "id": "7c710d4a",
   "metadata": {},
   "source": [
    "#### Answer: There is no difference between these two expressions. Both the statements will check if ‘cat’ is present in the keys or not."
   ]
  },
  {
   "cell_type": "markdown",
   "id": "d9d040a5",
   "metadata": {},
   "source": [
    "### 6. If a dictionary is stored in spam, what is the difference between the expressions ‘cat’ in spam and ‘cat’ in spam.values()?\n"
   ]
  },
  {
   "cell_type": "markdown",
   "id": "50c666db",
   "metadata": {},
   "source": [
    "#### Answer:   ‘cat’ in spam will check if there is any key named ‘cat’ or not in the spam dictionary\n",
    "#### 'cat' in spam.values() checks whether there is a value 'cat' for one of the keys in spam dictionary\n"
   ]
  },
  {
   "cell_type": "markdown",
   "id": "885da7d4",
   "metadata": {},
   "source": [
    "### 7. What is a shortcut for the following code?\n",
    "### if ‘color’ not in spam:\n",
    "### spam[‘color’] = ‘black’\n"
   ]
  },
  {
   "cell_type": "markdown",
   "id": "d474786f",
   "metadata": {},
   "source": [
    "#### Answer: spam.setdefault(‘color’,’black’)"
   ]
  },
  {
   "cell_type": "markdown",
   "id": "7dbeb9e4",
   "metadata": {},
   "source": [
    "### 8. How do you “pretty print” dictionary values using which module and function?"
   ]
  },
  {
   "cell_type": "markdown",
   "id": "3dbc0976",
   "metadata": {},
   "source": [
    "#### Answer: In order to prettify our dictionary values, we have to import pprint module and from pprint module, we have to use pprint function.\n",
    "#### Import pprint\n",
    "#### pprint.pprint(dictionary_variable)\n"
   ]
  },
  {
   "cell_type": "code",
   "execution_count": null,
   "id": "86156c15",
   "metadata": {},
   "outputs": [],
   "source": []
  }
 ],
 "metadata": {
  "kernelspec": {
   "display_name": "Python 3 (ipykernel)",
   "language": "python",
   "name": "python3"
  },
  "language_info": {
   "codemirror_mode": {
    "name": "ipython",
    "version": 3
   },
   "file_extension": ".py",
   "mimetype": "text/x-python",
   "name": "python",
   "nbconvert_exporter": "python",
   "pygments_lexer": "ipython3",
   "version": "3.9.12"
  }
 },
 "nbformat": 4,
 "nbformat_minor": 5
}
