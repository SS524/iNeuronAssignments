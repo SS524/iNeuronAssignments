{
 "cells": [
  {
   "cell_type": "markdown",
   "id": "681d4ad9",
   "metadata": {},
   "source": [
    "### 1. In the below elements which of them are values or an expression? eg:- values can be\n",
    "###     integer or string and expressions will be mathematical operators.\n",
    "\n",
    "#### *\n",
    "#### 'hello'\n",
    "#### -87.8\n",
    "#### -\n",
    "#### /\n",
    "#### +\n",
    "#### 6\n",
    "\n",
    "#### Answer: \n",
    "#### * => mathematical operator\n",
    "#### 'hello' => value\n",
    "#### -87.8 => value\n",
    "#### - => mathematical operator\n",
    "#### / => mathematical operator\n",
    "#### + => mathematical operator\n",
    "#### 6 => value"
   ]
  },
  {
   "cell_type": "markdown",
   "id": "38022c9b",
   "metadata": {},
   "source": [
    "### 2. What is the difference between string and variable?\n",
    "#### Answer:\n",
    "#### Variable is a container present in RAM where we store the values or data, this can be any value including integer, float, string, file, etc. Whereas string is a data, or we can say that string is an array of characters"
   ]
  },
  {
   "cell_type": "markdown",
   "id": "bf227e49",
   "metadata": {},
   "source": [
    "### 3. Describe three different data types.\n",
    "#### Answer:\n",
    "#### Three different datatypes are - int, string, boolean"
   ]
  },
  {
   "cell_type": "markdown",
   "id": "441d1441",
   "metadata": {},
   "source": [
    "### 4. What is an expression made up of? What do all expressions do?\n",
    "#### Answer:\n",
    "#### Expression is made up of operation, variables and constant\n",
    "#### The expression is a representation of value."
   ]
  },
  {
   "cell_type": "markdown",
   "id": "4f76be37",
   "metadata": {},
   "source": [
    "### 5. This assignment statements, like spam = 10. What is the difference between an expression and a statement?\n",
    "#### Answer:\n",
    "#### Expression is a combination of operators, variables and constants to represent a specific value.\n",
    "#### Statement is an instruction. When we say spam =10, a variable named spam gets created in the RAM and it points to the value 10. "
   ]
  },
  {
   "cell_type": "markdown",
   "id": "fcd488cb",
   "metadata": {},
   "source": [
    "### 6. After running the following code, what does the variable bacon contain?\n",
    "### bacon = 22\n",
    "### bacon + 1\n",
    "#### Answer:\n",
    "#### 22"
   ]
  },
  {
   "cell_type": "markdown",
   "id": "3f9a2675",
   "metadata": {},
   "source": [
    "### 7. What should the values of the following two terms be?\n",
    "#### 'spam' +'spamspam'\n",
    "#### 'spam' * 3\n",
    "#### Answer:\n",
    "#### Both the terms will be 'spamspamspam'"
   ]
  },
  {
   "cell_type": "markdown",
   "id": "537ddea3",
   "metadata": {},
   "source": [
    "### 8. Why is eggs a valid variable name while 100 is invalid?\n",
    "#### Answer:\n",
    "#### Variable name can not start with a number, that's why 100 is a invalid variable name. However, it can start with string or characters, so eggs is a valid variable name"
   ]
  },
  {
   "cell_type": "markdown",
   "id": "648bb15b",
   "metadata": {},
   "source": [
    "### 9. What three functions can be used to get the integer, floating-point number, or string version of a value?\n",
    "#### Answer:\n",
    "#### for getting integer version - int()\n",
    "#### for getting floating point version - float()\n",
    "#### for getting string version - str()"
   ]
  },
  {
   "cell_type": "markdown",
   "id": "ff733a77",
   "metadata": {},
   "source": [
    "### 10. Why does this expression cause an error? How can you fix it?\n",
    "#### 'I have eaten'+ 99 +'burritos'\n",
    "#### Answer:\n",
    "#### string values can be only concatenated with string. Here 99 is an integer. That's why this expression will cause an error.\n",
    "#### In order to fix this, we will have to perform type casting. We can convert 99 as a string with the help of str(99). After that we can perform the addition. We can also put single or double quotation around 99 to make it a string "
   ]
  },
  {
   "cell_type": "code",
   "execution_count": null,
   "id": "701b5a46",
   "metadata": {},
   "outputs": [],
   "source": []
  }
 ],
 "metadata": {
  "kernelspec": {
   "display_name": "Python 3 (ipykernel)",
   "language": "python",
   "name": "python3"
  },
  "language_info": {
   "codemirror_mode": {
    "name": "ipython",
    "version": 3
   },
   "file_extension": ".py",
   "mimetype": "text/x-python",
   "name": "python",
   "nbconvert_exporter": "python",
   "pygments_lexer": "ipython3",
   "version": "3.9.12"
  }
 },
 "nbformat": 4,
 "nbformat_minor": 5
}
