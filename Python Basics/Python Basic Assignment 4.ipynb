{
 "cells": [
  {
   "cell_type": "markdown",
   "id": "74c92bda",
   "metadata": {},
   "source": [
    "### 1.\tWhat exactly is []?"
   ]
  },
  {
   "cell_type": "markdown",
   "id": "a2b1242b",
   "metadata": {},
   "source": [
    "#### Answer:  This is an empty list."
   ]
  },
  {
   "cell_type": "markdown",
   "id": "11bd521a",
   "metadata": {},
   "source": [
    "###    2. In a list of values stored in a variable called spam, how would you assign the value ‘hello’ as the third value? (Assume [2, 4, 6, 8, 10] are in spam.)\n",
    "### Let’s pretend the spam includes the list [‘a’, ‘b’, ‘c’, ‘d’] for the next three queries.\n"
   ]
  },
  {
   "cell_type": "markdown",
   "id": "48fb60f8",
   "metadata": {},
   "source": [
    "#### Answer: spam[2]=’hello’"
   ]
  },
  {
   "cell_type": "markdown",
   "id": "b01c23c3",
   "metadata": {},
   "source": [
    "### 3.\tWhat is the value of spam[int(int(‘3’ * 2) / 11)]?"
   ]
  },
  {
   "cell_type": "markdown",
   "id": "320382a0",
   "metadata": {},
   "source": [
    "#### Answer: spam[int(int(‘3’ * 2) / 11)]\n",
    "#### spam[int(int(‘33’) / 11)]\n",
    "#### spam[int(33 / 11)]\n",
    "#### spam[int(3)]\n",
    "#### spam[3]=’d’\n"
   ]
  },
  {
   "cell_type": "markdown",
   "id": "2645639d",
   "metadata": {},
   "source": [
    "### 4.\tWhat is the value of spam[-1]?"
   ]
  },
  {
   "cell_type": "markdown",
   "id": "70e1a2af",
   "metadata": {},
   "source": [
    "#### Answer: spam[-1]=’d’"
   ]
  },
  {
   "cell_type": "markdown",
   "id": "96c703d1",
   "metadata": {},
   "source": [
    "### 5.\tWhat is the value of spam[:2]?"
   ]
  },
  {
   "cell_type": "markdown",
   "id": "e8324e24",
   "metadata": {},
   "source": [
    "#### Answer: spam[:2]=[‘a’,’b’]"
   ]
  },
  {
   "cell_type": "markdown",
   "id": "178361f8",
   "metadata": {},
   "source": [
    "### Let’s pretend bacon has the list [3.14, ‘cat,’ 11, ‘cat,’ True] for the next three questions.\n",
    "### 6.\tWhat is the value of bacon.index(‘cat’)?\n"
   ]
  },
  {
   "cell_type": "markdown",
   "id": "2d55a3de",
   "metadata": {},
   "source": [
    "#### Answer: This will return the index of the first occurrence of ‘cat’ which is 1"
   ]
  },
  {
   "cell_type": "markdown",
   "id": "c4288ecb",
   "metadata": {},
   "source": [
    "### 7.\tHow does bacon.append(99) change the look of the list value in bacon?"
   ]
  },
  {
   "cell_type": "markdown",
   "id": "0876151b",
   "metadata": {},
   "source": [
    "#### Answer: After appending, the list will look like this – [3.14, ‘cat,’ 11, ‘cat,’ True,99]"
   ]
  },
  {
   "cell_type": "markdown",
   "id": "2fe0d0d6",
   "metadata": {},
   "source": [
    "### 8.\tHow does bacon.remove(‘cat’) change the look of the list in bacon?"
   ]
  },
  {
   "cell_type": "markdown",
   "id": "92266e8f",
   "metadata": {},
   "source": [
    "#### Answer: remove function will remove the first occurrence of ‘cat’. The list will look like this – \n",
    "[3.14, 11, ‘cat,’ True]\n"
   ]
  },
  {
   "cell_type": "markdown",
   "id": "f1b29fd7",
   "metadata": {},
   "source": [
    "### 9. What are the list concatenation and list replication operators?"
   ]
  },
  {
   "cell_type": "markdown",
   "id": "4c405ae6",
   "metadata": {},
   "source": [
    "#### Answer: + is list concatenation operator whereas * is a list replication operator "
   ]
  },
  {
   "cell_type": "markdown",
   "id": "6dbaf50f",
   "metadata": {},
   "source": [
    "### 10.\tWhat is difference between the list methods append() and insert()?"
   ]
  },
  {
   "cell_type": "markdown",
   "id": "c6ecfc23",
   "metadata": {},
   "source": [
    "#### Answer: append method always inserts element at the end of the list. \n",
    "#### insert method can insert the element at any specified index.  \n"
   ]
  },
  {
   "cell_type": "markdown",
   "id": "9de29ee5",
   "metadata": {},
   "source": [
    "### 11.\tWhat are the two methods for removing items from a list?"
   ]
  },
  {
   "cell_type": "markdown",
   "id": "619af728",
   "metadata": {},
   "source": [
    "#### Answer: Two methods are pop() and remove()\n",
    "#### del statement can also be used to remove element from list \n"
   ]
  },
  {
   "cell_type": "markdown",
   "id": "cefd9828",
   "metadata": {},
   "source": [
    "### 12.\tDescribe how list values and string values are identical."
   ]
  },
  {
   "cell_type": "markdown",
   "id": "4e90d86d",
   "metadata": {},
   "source": [
    "#### Answer: There are few similarities between list values and string values. \n",
    "#### 1.\tFor both list and string, we can perform slicing operation.\n",
    "#### 2.\tConcatenation and replication operators work same for list and string values\n",
    "#### 3.\tFor both list and string, we can use len() method to determine the length of the value.\n",
    "#### 4.\tFor both, we can access individual element based on index\n"
   ]
  },
  {
   "cell_type": "markdown",
   "id": "fee4fe90",
   "metadata": {},
   "source": [
    "### 13.\tWhat’s the difference between tuples and lists?"
   ]
  },
  {
   "cell_type": "markdown",
   "id": "d29be03f",
   "metadata": {},
   "source": [
    "#### Answer: The main difference between list and tuple is- \n",
    "#### List is mutable in nature. We can update any list item with the help of index.\n",
    "#### Tuple is an immutable object. We can not update individual item of tuple after the initialization\n"
   ]
  },
  {
   "cell_type": "markdown",
   "id": "85ac5288",
   "metadata": {},
   "source": [
    "### 14.\tHow do you type a tuple value that only contains the integer 42?"
   ]
  },
  {
   "cell_type": "markdown",
   "id": "aceb0742",
   "metadata": {},
   "source": [
    "#### Answer: If there is only one item in the tuple, then we have to use trailing comma. In this case, it should like (42,)"
   ]
  },
  {
   "cell_type": "markdown",
   "id": "0caeafc6",
   "metadata": {},
   "source": [
    "### 15.\tHow do you get a list value’s tuple form? How do you get a tuple value’s list form?"
   ]
  },
  {
   "cell_type": "markdown",
   "id": "05ec9b34",
   "metadata": {},
   "source": [
    "#### Answer: We will get list value’s tuple form by using tuple() function and tuple value’s list form by using list() function."
   ]
  },
  {
   "cell_type": "markdown",
   "id": "77a0602e",
   "metadata": {},
   "source": [
    "### 16. Variables that “contain” list values are not necessarily lists themselves. Instead, what do they contain?\n"
   ]
  },
  {
   "cell_type": "markdown",
   "id": "d246eff9",
   "metadata": {},
   "source": [
    "#### Answer: Variables contain the reference of the list objects"
   ]
  },
  {
   "cell_type": "markdown",
   "id": "10c899e6",
   "metadata": {},
   "source": [
    "### 17.\tHow do you distinguish between copy.copy() and copy.deepcopy()?"
   ]
  },
  {
   "cell_type": "markdown",
   "id": "d2f12b21",
   "metadata": {},
   "source": [
    "#### Answer: The copy.copy() function will do a shallow copy of a list, while the copy.deepcopy() function will do a deep copy of a list. "
   ]
  },
  {
   "cell_type": "code",
   "execution_count": null,
   "id": "3c18517d",
   "metadata": {},
   "outputs": [],
   "source": []
  }
 ],
 "metadata": {
  "kernelspec": {
   "display_name": "Python 3 (ipykernel)",
   "language": "python",
   "name": "python3"
  },
  "language_info": {
   "codemirror_mode": {
    "name": "ipython",
    "version": 3
   },
   "file_extension": ".py",
   "mimetype": "text/x-python",
   "name": "python",
   "nbconvert_exporter": "python",
   "pygments_lexer": "ipython3",
   "version": "3.9.12"
  }
 },
 "nbformat": 4,
 "nbformat_minor": 5
}
