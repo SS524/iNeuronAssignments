{
 "cells": [
  {
   "cell_type": "markdown",
   "id": "7f664dae",
   "metadata": {},
   "source": [
    "### 1.What are the two values of the Boolean data type? How do you write them?"
   ]
  },
  {
   "cell_type": "markdown",
   "id": "047e9a0f",
   "metadata": {},
   "source": [
    "#### Answer:\n",
    "#### There are two values of the Boolean data type. These are True and False"
   ]
  },
  {
   "cell_type": "markdown",
   "id": "f0e2c034",
   "metadata": {},
   "source": [
    "### 2. What are the three different types of Boolean operators?"
   ]
  },
  {
   "cell_type": "markdown",
   "id": "f4a26bb9",
   "metadata": {},
   "source": [
    "#### Answer:\n",
    "#### Three types of boolean operators are - \n",
    "#### 1. and\n",
    "#### 2. or\n",
    "#### 3. not"
   ]
  },
  {
   "cell_type": "markdown",
   "id": "742a396b",
   "metadata": {},
   "source": [
    "### 3. Make a list of each Boolean operator&#39;s truth tables (i.e. every possible combination of Boolean values for the operator and what it evaluate )."
   ]
  },
  {
   "cell_type": "markdown",
   "id": "ab86a711",
   "metadata": {},
   "source": [
    "#### Answer:\n",
    "#### and truth table\n",
    "#### True and True => True\n",
    "#### True and False => False \n",
    "#### False and True => False \n",
    "#### False and False => False \n",
    "\n",
    "#### or truth table\n",
    "#### True or True => True\n",
    "#### True or False => True \n",
    "#### False or True => True \n",
    "#### False or False => False \n",
    "\n",
    "#### not truth table\n",
    "#### not True => False\n",
    "#### not False => True"
   ]
  },
  {
   "cell_type": "markdown",
   "id": "dab1b10f",
   "metadata": {},
   "source": [
    "### 4. What are the values of the following expressions?\n",
    "### (5 > 4) and (3 == 5)\n",
    "### not (5 > 4)\n",
    "### (5 > 4) or (3 == 5)\n",
    "### not ((5 > 4) or (3 == 5))\n",
    "### (True and True) and (True == False)\n",
    "### (not False) or (not True)"
   ]
  },
  {
   "cell_type": "markdown",
   "id": "7a549dfb",
   "metadata": {},
   "source": [
    "#### Answer:\n",
    "#### False\n",
    "#### False\n",
    "#### True\n",
    "#### False\n",
    "#### False\n",
    "#### True"
   ]
  },
  {
   "cell_type": "markdown",
   "id": "89c6e876",
   "metadata": {},
   "source": [
    "### 5. What are the six comparison operators?"
   ]
  },
  {
   "cell_type": "markdown",
   "id": "f395aab4",
   "metadata": {},
   "source": [
    "#### Answer:\n",
    "#### Six comparison operators are:\n",
    "#### 1. ==\n",
    "#### 2. !=\n",
    "#### 3. >\n",
    "#### 4. <\n",
    "#### 5. >=\n",
    "#### 6. <="
   ]
  },
  {
   "cell_type": "markdown",
   "id": "0af9c6b9",
   "metadata": {},
   "source": [
    "### 6. How do you tell the difference between the equal to and assignment operators?Describe a condition and when you would use one."
   ]
  },
  {
   "cell_type": "markdown",
   "id": "661f81ab",
   "metadata": {},
   "source": [
    "#### Answer:\n",
    "#### Assignment operator is used to assign a value on the right to a variable on the left. Example: a=3, this is an assignment and a variable named 'a' gets created in the RAM and it points to the value 3.\n",
    "#### Equal is a comparison operator. When we try to check the equality between two values or objects, we use this operator. Example: b=3, c=3, now we are using equal operator to check if the value of b and c are equal, b==c. In this case equal operator will return True as b and c are equal. \n",
    "#### A condition is an expression that is used in a flow control statement and it evaluates to a Boolean value."
   ]
  },
  {
   "cell_type": "markdown",
   "id": "55bc9abf",
   "metadata": {},
   "source": [
    "### 7. Identify the three blocks in this code:\n",
    "### spam = 0\n",
    "### if spam == 10:\n",
    "### print('eggs')\n",
    "### if spam > 5:\n",
    "### print('bacon')\n",
    "### else:\n",
    "### print('ham')\n",
    "### print('spam')\n",
    "### print('spam')"
   ]
  },
  {
   "cell_type": "code",
   "execution_count": 1,
   "id": "bcffac1c",
   "metadata": {},
   "outputs": [
    {
     "name": "stdout",
     "output_type": "stream",
     "text": [
      "ham\n",
      "spam\n",
      "spam\n"
     ]
    }
   ],
   "source": [
    "spam=0\n",
    "if spam==10:\n",
    "    print('eggs')   # Block A\n",
    "if spam>5:\n",
    "    print('bacon')  # Block B\n",
    "else:\n",
    "    print('ham')    # Block C\n",
    "    print('spam')   # Block C\n",
    "    print('spam')   # Block C"
   ]
  },
  {
   "cell_type": "markdown",
   "id": "b62f9868",
   "metadata": {},
   "source": [
    "### 8. Write code that prints Hello if 1 is stored in spam, prints Howdy if 2 is stored in spam, and prints Greetings! if anything else is stored in spam."
   ]
  },
  {
   "cell_type": "code",
   "execution_count": 7,
   "id": "23286008",
   "metadata": {},
   "outputs": [
    {
     "name": "stdout",
     "output_type": "stream",
     "text": [
      "Enter spam value 1\n",
      "Hello\n"
     ]
    }
   ],
   "source": [
    "spam=int(input('Enter spam value '))\n",
    "if spam==1:\n",
    "    print('Hello')\n",
    "elif spam==2:\n",
    "    print('Howdy')\n",
    "else:\n",
    "    print('Greetings!')"
   ]
  },
  {
   "cell_type": "markdown",
   "id": "db2f8826",
   "metadata": {},
   "source": [
    "### 9.If your programme is stuck in an endless loop, what keys you’ll press?"
   ]
  },
  {
   "cell_type": "markdown",
   "id": "f5e1fe41",
   "metadata": {},
   "source": [
    "#### Answer:\n",
    "#### CTRL+C"
   ]
  },
  {
   "cell_type": "markdown",
   "id": "8e5a147b",
   "metadata": {},
   "source": [
    "### 10. How can you tell the difference between break and continue?"
   ]
  },
  {
   "cell_type": "markdown",
   "id": "c640981c",
   "metadata": {},
   "source": [
    "#### Answer:\n",
    "#### Break statement leads to immediate exit of the innermost loop, whereas continue statement skips the current iteration and moves to the next one."
   ]
  },
  {
   "cell_type": "markdown",
   "id": "5a431a92",
   "metadata": {},
   "source": [
    "### 11. In a for loop, what is the difference between range(10), range(0, 10), and range(0, 10, 1)?"
   ]
  },
  {
   "cell_type": "markdown",
   "id": "a50c3f21",
   "metadata": {},
   "source": [
    "#### Answer:\n",
    "#### There is no difference between range(10), range(0,10), and range(0,10,1) in a for loop. For each case, this will print 0, 1, 2, 3, 4, 5, 6, 7, 8, 9."
   ]
  },
  {
   "cell_type": "markdown",
   "id": "e86f97b0",
   "metadata": {},
   "source": [
    "### 12. Write a short program that prints the numbers 1 to 10 using a for loop. Then write an equivalent program that prints the numbers 1 to 10 using a while loop."
   ]
  },
  {
   "cell_type": "code",
   "execution_count": 12,
   "id": "caec1b94",
   "metadata": {},
   "outputs": [
    {
     "name": "stdout",
     "output_type": "stream",
     "text": [
      "1\n",
      "2\n",
      "3\n",
      "4\n",
      "5\n",
      "6\n",
      "7\n",
      "8\n",
      "9\n",
      "10\n"
     ]
    }
   ],
   "source": [
    "# for loop\n",
    "for i in range(1,11):\n",
    "    print(i)"
   ]
  },
  {
   "cell_type": "code",
   "execution_count": 13,
   "id": "b758ad95",
   "metadata": {},
   "outputs": [
    {
     "name": "stdout",
     "output_type": "stream",
     "text": [
      "1\n",
      "2\n",
      "3\n",
      "4\n",
      "5\n",
      "6\n",
      "7\n",
      "8\n",
      "9\n",
      "10\n"
     ]
    }
   ],
   "source": [
    "# while loop\n",
    "i=1\n",
    "while(i<=10):\n",
    "    print(i)\n",
    "    i=i+1"
   ]
  },
  {
   "cell_type": "markdown",
   "id": "0446e6b5",
   "metadata": {},
   "source": [
    "### 13. If you had a function named bacon() inside a module named spam, how would you call it after importing spam?"
   ]
  },
  {
   "cell_type": "markdown",
   "id": "c42c4296",
   "metadata": {},
   "source": [
    "#### Answer:\n",
    "#### import spam\n",
    "#### spam.bacon()"
   ]
  },
  {
   "cell_type": "code",
   "execution_count": null,
   "id": "b10e943f",
   "metadata": {},
   "outputs": [],
   "source": []
  }
 ],
 "metadata": {
  "kernelspec": {
   "display_name": "Python 3 (ipykernel)",
   "language": "python",
   "name": "python3"
  },
  "language_info": {
   "codemirror_mode": {
    "name": "ipython",
    "version": 3
   },
   "file_extension": ".py",
   "mimetype": "text/x-python",
   "name": "python",
   "nbconvert_exporter": "python",
   "pygments_lexer": "ipython3",
   "version": "3.9.12"
  }
 },
 "nbformat": 4,
 "nbformat_minor": 5
}
