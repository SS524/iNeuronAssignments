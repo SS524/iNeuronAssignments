{
 "cells": [
  {
   "cell_type": "markdown",
   "id": "21f1342a",
   "metadata": {},
   "source": [
    "### 1. Write a Python program to convert kilometers to miles?"
   ]
  },
  {
   "cell_type": "code",
   "execution_count": 2,
   "id": "ed246f4d",
   "metadata": {},
   "outputs": [
    {
     "name": "stdout",
     "output_type": "stream",
     "text": [
      "Enter the kilometers23\n",
      "Equivalent miles= 14.291537369999999\n"
     ]
    }
   ],
   "source": [
    "km=int(input('Enter the kilometers'))\n",
    "miles=km*0.62137119\n",
    "print('Equivalent miles=',miles)"
   ]
  },
  {
   "cell_type": "markdown",
   "id": "2953ce84",
   "metadata": {},
   "source": [
    "### 2. Write a Python program to convert Celsius to Fahrenheit?"
   ]
  },
  {
   "cell_type": "code",
   "execution_count": 3,
   "id": "05dcd53f",
   "metadata": {},
   "outputs": [
    {
     "name": "stdout",
     "output_type": "stream",
     "text": [
      "Enter the celsius value30\n",
      "Fahrenheit value is 86.0\n"
     ]
    }
   ],
   "source": [
    "cel=int(input('Enter the celsius value'))\n",
    "fah=(9/5)*cel+32\n",
    "print('Fahrenheit value is',fah)"
   ]
  },
  {
   "cell_type": "markdown",
   "id": "62a6a483",
   "metadata": {},
   "source": [
    "### 3. Write a Python program to display calendar?"
   ]
  },
  {
   "cell_type": "code",
   "execution_count": 6,
   "id": "668491bc",
   "metadata": {},
   "outputs": [
    {
     "name": "stdout",
     "output_type": "stream",
     "text": [
      "Enter the year2023\n",
      "Enter the month1\n",
      "    January 2023\n",
      "Mo Tu We Th Fr Sa Su\n",
      "                   1\n",
      " 2  3  4  5  6  7  8\n",
      " 9 10 11 12 13 14 15\n",
      "16 17 18 19 20 21 22\n",
      "23 24 25 26 27 28 29\n",
      "30 31\n",
      "\n"
     ]
    }
   ],
   "source": [
    "import calendar\n",
    "y=int(input('Enter the year'))\n",
    "m=int(input('Enter the month'))\n",
    "print(calendar.month(y,m))\n"
   ]
  },
  {
   "cell_type": "markdown",
   "id": "5595ec5d",
   "metadata": {},
   "source": [
    "### 4. Write a Python program to solve quadratic equation?"
   ]
  },
  {
   "cell_type": "code",
   "execution_count": 14,
   "id": "6020ad3c",
   "metadata": {},
   "outputs": [
    {
     "name": "stdout",
     "output_type": "stream",
     "text": [
      "Enter the value of a2\n",
      "Enter the value of b3\n",
      "Enter the value of c1\n",
      "The solutions are -0.5 and -1.0\n"
     ]
    }
   ],
   "source": [
    "# ax^2+bx+c\n",
    "from math import sqrt\n",
    "a=int(input('Enter the value of a'))\n",
    "b=int(input('Enter the value of b'))\n",
    "c=int(input('Enter the value of c'))\n",
    "det=b*b-4*a*c\n",
    "if det<0:\n",
    "    print('There is no real solution to this quadratic equation')\n",
    "else:\n",
    "    x=(-b+sqrt(det))/(2*a)\n",
    "    y=(-b-sqrt(det))/(2*a)\n",
    "    print(f'The solutions are {x} and {y}')"
   ]
  },
  {
   "cell_type": "markdown",
   "id": "cb0c2d0d",
   "metadata": {},
   "source": [
    "### 5. Write a Python program to swap two variables without temp variable?"
   ]
  },
  {
   "cell_type": "code",
   "execution_count": 15,
   "id": "77596b7b",
   "metadata": {},
   "outputs": [
    {
     "name": "stdout",
     "output_type": "stream",
     "text": [
      "Enter the value of x12\n",
      "Enter the value of y21\n",
      "Before swapping, x=12 and y=21\n",
      "After swapping, x=21 and y=12\n"
     ]
    }
   ],
   "source": [
    "x=int(input('Enter the value of x'))\n",
    "y=int(input('Enter the value of y'))\n",
    "print(f'Before swapping, x={x} and y={y}')\n",
    "x,y=y,x\n",
    "print(f'After swapping, x={x} and y={y}')\n"
   ]
  },
  {
   "cell_type": "code",
   "execution_count": null,
   "id": "ecc0638a",
   "metadata": {},
   "outputs": [],
   "source": []
  }
 ],
 "metadata": {
  "kernelspec": {
   "display_name": "Python 3 (ipykernel)",
   "language": "python",
   "name": "python3"
  },
  "language_info": {
   "codemirror_mode": {
    "name": "ipython",
    "version": 3
   },
   "file_extension": ".py",
   "mimetype": "text/x-python",
   "name": "python",
   "nbconvert_exporter": "python",
   "pygments_lexer": "ipython3",
   "version": "3.9.12"
  }
 },
 "nbformat": 4,
 "nbformat_minor": 5
}
