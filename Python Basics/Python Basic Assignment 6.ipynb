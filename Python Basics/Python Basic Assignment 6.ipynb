{
 "cells": [
  {
   "cell_type": "markdown",
   "id": "28ce64ae",
   "metadata": {},
   "source": [
    "### 1.\tWhat are escape characters, and how do you use them?"
   ]
  },
  {
   "cell_type": "markdown",
   "id": "6b0e284f",
   "metadata": {},
   "source": [
    "#### Answer: To insert characters that are illegal in a string, use an escape character.\n",
    "#### An escape character is a backslash \\ followed by the character you want to insert.\n"
   ]
  },
  {
   "cell_type": "markdown",
   "id": "def0a5f0",
   "metadata": {},
   "source": [
    "### 2.\tWhat do the escape characters n and t stand for?"
   ]
  },
  {
   "cell_type": "markdown",
   "id": "db361357",
   "metadata": {},
   "source": [
    "#### Answer: ‘n’ stands for new line and ‘t’ stands for tab"
   ]
  },
  {
   "cell_type": "markdown",
   "id": "984f4679",
   "metadata": {},
   "source": [
    "### 3.\tWhat is the way to include backslash characters in a string?"
   ]
  },
  {
   "cell_type": "markdown",
   "id": "48d599b4",
   "metadata": {},
   "source": [
    "#### Answer: We need to use one extra backslash before all other backslash characters. The first one will be used as an escape character. "
   ]
  },
  {
   "cell_type": "markdown",
   "id": "b90dd1fc",
   "metadata": {},
   "source": [
    "### 4. The string “Howl’s Moving Castle” is a correct value. Why isn’t the single quote character in the word Howl’s not escaped a problem?\n"
   ]
  },
  {
   "cell_type": "markdown",
   "id": "75fe5125",
   "metadata": {},
   "source": [
    "#### Answer: Here single quote character will not cause any issue because the whole string is starting and ending with double quotation. "
   ]
  },
  {
   "cell_type": "markdown",
   "id": "1fe2f88a",
   "metadata": {},
   "source": [
    "### 5.\tHow do you write a string of newlines if you don’t want to use the n character?"
   ]
  },
  {
   "cell_type": "markdown",
   "id": "7cababb6",
   "metadata": {},
   "source": [
    "#### Answer: We can enclose our string within triple single quotes and write a string of new lines. For example- \n",
    "#### ‘’’Hello \n",
    "#### World’’’\n",
    "#### This will print – \n",
    "#### Hello\n",
    "#### World\n"
   ]
  },
  {
   "cell_type": "markdown",
   "id": "f4526483",
   "metadata": {},
   "source": [
    "### 6. What are the values of the given expressions?\n",
    "### ‘Hello, world!’[1]\n",
    "### ‘Hello, world!’[0:5]\n",
    "### ‘Hello, world!’[:5]\n",
    "### ‘Hello, world!’[3:]\n"
   ]
  },
  {
   "cell_type": "markdown",
   "id": "0f0f2082",
   "metadata": {},
   "source": [
    "#### Answer: \n",
    "#### ‘Hello, world!’[1] – ‘e’\n",
    "#### ‘Hello, world!’[0:5] – ‘Hello’\n",
    "#### ‘Hello, world!’[:5] – ‘Hello’\n",
    "#### ‘Hello, world!’[3:] – ‘lo, world!’\n"
   ]
  },
  {
   "cell_type": "markdown",
   "id": "a9d6cc9d",
   "metadata": {},
   "source": [
    "### 7. What are the values of the following expressions?\n",
    "### ‘Hello’.upper()\n",
    "### ‘Hello’.upper().isupper()\n",
    "### ‘Hello’.upper().lower()\n"
   ]
  },
  {
   "cell_type": "markdown",
   "id": "c6f7589f",
   "metadata": {},
   "source": [
    "#### Answer: ‘Hello’.upper() – ‘HELLO’\n",
    "#### ‘Hello’.upper().isupper() – True\n",
    "#### ‘Hello’.upper().lower() – ‘hello’\n"
   ]
  },
  {
   "cell_type": "markdown",
   "id": "70651ac2",
   "metadata": {},
   "source": [
    "### 8. What are the values of the following expressions?\n",
    "### ‘Remember, remember, the fifth of July.’.split()\n",
    "### ‘-’.join(‘There can only one.’.split())\n"
   ]
  },
  {
   "cell_type": "markdown",
   "id": "58f7657e",
   "metadata": {},
   "source": [
    "#### Answer: \n",
    "#### ‘Remember, remember, the fifth of July.’.split() – [‘Remember,’, ’remember,’, ’the’, ’fifth’, ’of’, ’July’]\n",
    "#### ‘-’.join(‘There can only one.’.split()) – ‘There-can-only-one.’\n"
   ]
  },
  {
   "cell_type": "markdown",
   "id": "4ffd04d0",
   "metadata": {},
   "source": [
    "### 9. What are the methods for right-justifying, left-justifying, and centering a string?"
   ]
  },
  {
   "cell_type": "markdown",
   "id": "0d08125c",
   "metadata": {},
   "source": [
    "#### Answer: for left justifying a string – ljust(width,fillchar) method is used\n",
    "#### For right justifying a string – rjust(width,fillchar) method is used\n",
    "#### For centering a string – center(width,fillchar) method is used\n"
   ]
  },
  {
   "cell_type": "markdown",
   "id": "e9dbb9f9",
   "metadata": {},
   "source": [
    "### 10. What is the best way to remove whitespace characters from the start or end?"
   ]
  },
  {
   "cell_type": "markdown",
   "id": "e6968358",
   "metadata": {},
   "source": [
    "#### Answer – We can use strip method to remove all the whitespaces for the start or end"
   ]
  },
  {
   "cell_type": "code",
   "execution_count": null,
   "id": "1474f62e",
   "metadata": {},
   "outputs": [],
   "source": []
  }
 ],
 "metadata": {
  "kernelspec": {
   "display_name": "Python 3 (ipykernel)",
   "language": "python",
   "name": "python3"
  },
  "language_info": {
   "codemirror_mode": {
    "name": "ipython",
    "version": 3
   },
   "file_extension": ".py",
   "mimetype": "text/x-python",
   "name": "python",
   "nbconvert_exporter": "python",
   "pygments_lexer": "ipython3",
   "version": "3.9.12"
  }
 },
 "nbformat": 4,
 "nbformat_minor": 5
}
