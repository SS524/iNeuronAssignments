{
 "cells": [
  {
   "cell_type": "markdown",
   "id": "925c281c",
   "metadata": {},
   "source": [
    "### 1. Write a Python program to print &quot;Hello Python&quot;?"
   ]
  },
  {
   "cell_type": "code",
   "execution_count": 1,
   "id": "6714c1cf",
   "metadata": {},
   "outputs": [
    {
     "name": "stdout",
     "output_type": "stream",
     "text": [
      "Hello Python\n"
     ]
    }
   ],
   "source": [
    "print(\"Hello Python\")"
   ]
  },
  {
   "cell_type": "markdown",
   "id": "acf627db",
   "metadata": {},
   "source": [
    "### 2. Write a Python program to do arithmetical operations addition and division.?"
   ]
  },
  {
   "cell_type": "code",
   "execution_count": 3,
   "id": "99c0c9e4",
   "metadata": {},
   "outputs": [
    {
     "name": "stdout",
     "output_type": "stream",
     "text": [
      "Enter first number12\n",
      "Enter second number0\n",
      "Addition result is 12\n",
      "Dividing any number by zero is not possible\n"
     ]
    }
   ],
   "source": [
    "a=int(input('Enter first number'))\n",
    "b=int(input('Enter second number'))\n",
    "add=a+b\n",
    "print('Addition result is',add)\n",
    "if(b==0):\n",
    "    print('Dividing any number by zero is not possible')\n",
    "else:\n",
    "    div=a/b\n",
    "    print('Division result is',div)"
   ]
  },
  {
   "cell_type": "markdown",
   "id": "347ddec8",
   "metadata": {},
   "source": [
    "### 3. Write a Python program to find the area of a triangle?"
   ]
  },
  {
   "cell_type": "code",
   "execution_count": 4,
   "id": "25c4f1fd",
   "metadata": {},
   "outputs": [
    {
     "name": "stdout",
     "output_type": "stream",
     "text": [
      "Enter the length of base of the triangle10\n",
      "Enter the length of height of the triangle5\n",
      "The area of the triangle is 25.0\n"
     ]
    }
   ],
   "source": [
    "b=int(input('Enter the length of base of the triangle'))\n",
    "h=int(input('Enter the length of height of the triangle'))\n",
    "area=0.5*b*h\n",
    "print('The area of the triangle is',area)"
   ]
  },
  {
   "cell_type": "markdown",
   "id": "a581db17",
   "metadata": {},
   "source": [
    "### 4. Write a Python program to swap two variables?"
   ]
  },
  {
   "cell_type": "code",
   "execution_count": 5,
   "id": "ea077fdc",
   "metadata": {},
   "outputs": [
    {
     "name": "stdout",
     "output_type": "stream",
     "text": [
      "Enter the value of x12\n",
      "Enter the value of y10\n",
      "Before swapping, x=12 and y=10\n",
      "After swapping,x=10 and y=12\n"
     ]
    }
   ],
   "source": [
    "x=int(input('Enter the value of x'))\n",
    "y=int(input('Enter the value of y'))\n",
    "print('Before swapping, x={} and y={}'.format(x,y))\n",
    "temp=x\n",
    "x=y\n",
    "y=temp\n",
    "print('After swapping,x={} and y={}'.format(x,y))"
   ]
  },
  {
   "cell_type": "markdown",
   "id": "544a1f62",
   "metadata": {},
   "source": [
    "### 5. Write a Python program to generate a random number?"
   ]
  },
  {
   "cell_type": "code",
   "execution_count": 7,
   "id": "e4628edc",
   "metadata": {},
   "outputs": [
    {
     "name": "stdout",
     "output_type": "stream",
     "text": [
      "The random number is 0.6384709438143481\n"
     ]
    }
   ],
   "source": [
    "import random as rn\n",
    "ran_num=rn.random()\n",
    "print('The random number is',ran_num)"
   ]
  },
  {
   "cell_type": "code",
   "execution_count": null,
   "id": "73108ffd",
   "metadata": {},
   "outputs": [],
   "source": []
  }
 ],
 "metadata": {
  "kernelspec": {
   "display_name": "Python 3 (ipykernel)",
   "language": "python",
   "name": "python3"
  },
  "language_info": {
   "codemirror_mode": {
    "name": "ipython",
    "version": 3
   },
   "file_extension": ".py",
   "mimetype": "text/x-python",
   "name": "python",
   "nbconvert_exporter": "python",
   "pygments_lexer": "ipython3",
   "version": "3.9.12"
  }
 },
 "nbformat": 4,
 "nbformat_minor": 5
}
