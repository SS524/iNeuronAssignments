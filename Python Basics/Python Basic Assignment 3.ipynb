{
 "cells": [
  {
   "cell_type": "markdown",
   "id": "933f1407",
   "metadata": {},
   "source": [
    "### 1.\tWhy are functions advantageous to have in your programs?"
   ]
  },
  {
   "cell_type": "markdown",
   "id": "f25d9328",
   "metadata": {},
   "source": [
    "#### Answer: Functions reduce the need for repetitive code. This makes programs shorter, easier to        read, and easier to update. We can also use the specific block of codes by simply calling the function in our program"
   ]
  },
  {
   "cell_type": "markdown",
   "id": "cdf9d3ad",
   "metadata": {},
   "source": [
    "### 2.\tWhen does the code in a function run: when it’s specified or when it’s called?"
   ]
  },
  {
   "cell_type": "markdown",
   "id": "eea65bcb",
   "metadata": {},
   "source": [
    "#### Answer: When the function is called, at that time the codes inside the function gets executed."
   ]
  },
  {
   "cell_type": "markdown",
   "id": "4e788d0d",
   "metadata": {},
   "source": [
    "### 3.\tWhat statement creates a function?"
   ]
  },
  {
   "cell_type": "markdown",
   "id": "3589bfb4",
   "metadata": {},
   "source": [
    "#### Answer:  def statement creates a function"
   ]
  },
  {
   "cell_type": "markdown",
   "id": "bf1ab071",
   "metadata": {},
   "source": [
    "### 4.\tWhat is the difference between a function and a function call?"
   ]
  },
  {
   "cell_type": "markdown",
   "id": "87b1cf4f",
   "metadata": {},
   "source": [
    "#### Answer: A function consists of the def statement and the code inside the function body.\n",
    "\n",
    "#### A function call means executing the code inside the function body. As a result of this execution, the function might return a specific value or it might perform a particular task.\n"
   ]
  },
  {
   "cell_type": "markdown",
   "id": "a2225077",
   "metadata": {},
   "source": [
    "### 5.\tHow many global scopes are there in a Python program? How many local scopes?"
   ]
  },
  {
   "cell_type": "markdown",
   "id": "e0e05c61",
   "metadata": {},
   "source": [
    "#### Answer: There is one global scope in a python program. and a local scope is created whenever a variable is defined inside a function."
   ]
  },
  {
   "cell_type": "markdown",
   "id": "014a20c7",
   "metadata": {},
   "source": [
    "### 6.\tWhat happens to variables in a local scope when the function call returns?"
   ]
  },
  {
   "cell_type": "markdown",
   "id": "59aade4f",
   "metadata": {},
   "source": [
    "#### Answer: When a function returns, the local scope is destroyed, and all the variables in that scope, are lost."
   ]
  },
  {
   "cell_type": "markdown",
   "id": "997b44c3",
   "metadata": {},
   "source": [
    "### 7.\tWhat is the concept of a return value? Is it possible to have a return value in an expression?"
   ]
  },
  {
   "cell_type": "markdown",
   "id": "12c7b2ac",
   "metadata": {},
   "source": [
    "#### Answer: A return value is the value that a function call evaluates to. \n",
    "#### A return value can be used as part of an expression.\n"
   ]
  },
  {
   "cell_type": "markdown",
   "id": "2d33c8eb",
   "metadata": {},
   "source": [
    "### 8.\tIf a function does not have a return statement, what is the return value of a call to that function?"
   ]
  },
  {
   "cell_type": "markdown",
   "id": "3ed4a19a",
   "metadata": {},
   "source": [
    "#### Answer: If a function does not have a return statement, the return value of that function is None"
   ]
  },
  {
   "cell_type": "markdown",
   "id": "10788459",
   "metadata": {},
   "source": [
    "### 9.\tHow do you make a function variable refer to the global variable?"
   ]
  },
  {
   "cell_type": "markdown",
   "id": "20d641a1",
   "metadata": {},
   "source": [
    "#### Answer: We need to use the global keyword with the function variable to make that refer to the global variable. "
   ]
  },
  {
   "cell_type": "markdown",
   "id": "d1f17e54",
   "metadata": {},
   "source": [
    "### 10.\tWhat is the data type of None?"
   ]
  },
  {
   "cell_type": "markdown",
   "id": "2fe1f6e0",
   "metadata": {},
   "source": [
    "#### Answer: The data type of None is NoneType"
   ]
  },
  {
   "cell_type": "markdown",
   "id": "bdd68c67",
   "metadata": {},
   "source": [
    "### 11.\tWhat does the sentence import areallyourpetsnamederic do?"
   ]
  },
  {
   "cell_type": "markdown",
   "id": "7b69fec6",
   "metadata": {},
   "source": [
    "#### Answer: This statement imports a module named areallyourpetsnamederic"
   ]
  },
  {
   "cell_type": "markdown",
   "id": "96e3f874",
   "metadata": {},
   "source": [
    "### 12.\tIf you had a bacon() feature in a spam module, what would you call it after importing spam?"
   ]
  },
  {
   "cell_type": "markdown",
   "id": "401d2d56",
   "metadata": {},
   "source": [
    "#### Answer:  spam.bacon()\n",
    "#### In this way, I would call that feature.\n"
   ]
  },
  {
   "cell_type": "markdown",
   "id": "b2e2ca41",
   "metadata": {},
   "source": [
    "### 13.\tWhat can you do to save a program from crashing if it encounters an error?"
   ]
  },
  {
   "cell_type": "markdown",
   "id": "6e659e53",
   "metadata": {},
   "source": [
    "#### Answer: We have to put our error-prone code within the try block to avoid the program from further crashing if it encounters an error."
   ]
  },
  {
   "cell_type": "markdown",
   "id": "0c67424f",
   "metadata": {},
   "source": [
    "### 14.\tWhat is the purpose of the try clause? What is the purpose of the except clause?"
   ]
  },
  {
   "cell_type": "markdown",
   "id": "ae8961d6",
   "metadata": {},
   "source": [
    "#### Answer: try and except blocks are used simultaneously. \n",
    "#### We usually put the error-prone code within the try clause.\n",
    "#### If any error takes place, the control jumps out of try block and it goes to except block where we handle the error with suitable exception class.\n"
   ]
  },
  {
   "cell_type": "code",
   "execution_count": null,
   "id": "e7042717",
   "metadata": {},
   "outputs": [],
   "source": []
  }
 ],
 "metadata": {
  "kernelspec": {
   "display_name": "Python 3 (ipykernel)",
   "language": "python",
   "name": "python3"
  },
  "language_info": {
   "codemirror_mode": {
    "name": "ipython",
    "version": 3
   },
   "file_extension": ".py",
   "mimetype": "text/x-python",
   "name": "python",
   "nbconvert_exporter": "python",
   "pygments_lexer": "ipython3",
   "version": "3.9.12"
  }
 },
 "nbformat": 4,
 "nbformat_minor": 5
}
